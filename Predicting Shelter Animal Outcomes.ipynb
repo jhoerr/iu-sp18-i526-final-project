{
 "cells": [
  {
   "cell_type": "markdown",
   "metadata": {},
   "source": [
    "# Predicting Shelter Animal Outcomes\n",
    "\n",
    "**John Hoerr**, I526 SP18 Final Project\n",
    "\n",
    "**Abstract**  \n",
    "According to the ASPCA, approximately 6.5 million animals enter American animal shelters every year.  About 25% (1.5 million) of them are euthanized, down from about 40% (2.6 million) in 2011. We would like to increase this downward trend by helping shelter staff identify at-risk animals as quickly as possible. We propose to do this by modeling and classifying shelter animal outcomes using a combination of observable and historical features. This model can then be used to predict the outcome of shelter animals, which will help the staff to allocate resources in a way that maximizes their adoption goals."
   ]
  },
  {
   "cell_type": "markdown",
   "metadata": {},
   "source": [
    "# Phase 1"
   ]
  },
  {
   "cell_type": "markdown",
   "metadata": {},
   "source": [
    "## Data Procurement\n",
    "Our data source (and inspiration) for this project is the Kaggle competition, [Shelter Animal Outcomes](https://www.kaggle.com/c/shelter-animal-outcomes). The training data set includes outcomes for approximately 27,000 unique animals in the Austin, TX area from October 2013 to March 2016."
   ]
  },
  {
   "cell_type": "code",
   "execution_count": 19,
   "metadata": {
    "collapsed": true
   },
   "outputs": [],
   "source": [
    "import numpy as np\n",
    "import pandas as pd\n",
    "import math as math\n",
    "\n",
    "train = pd.read_csv('~/.kaggle/competitions/shelter-animal-outcomes/train.csv')\n",
    "test = pd.read_csv('~/.kaggle/competitions/shelter-animal-outcomes/test.csv')"
   ]
  },
  {
   "cell_type": "markdown",
   "metadata": {},
   "source": [
    "## Exploratory Data Analysis\n",
    "\n",
    "The feature set includes:\n",
    "1. **AnimalID** *(unique)*: A unique identifier  \n",
    "2. **Name** *(string)*: The animal name, if available.\n",
    "3. **DateTime** *(datetime)*: The timestamp of the outcome event.  \n",
    "4. **AnimalType** *(enum: dog. cat)*: The animal genus (broadly.)\n",
    "5. **SexuponOutcome** *(enum: intact male, intact female, neutered male, spayed female, unknown)*: The combined sex and reproductive status of the animal.\n",
    "6. **AgeuponOutcome** *(timespan string)*: The animal's age at the time of the outcome.\n",
    "7. **Breed** *(string)*: The animal's species (broadly.)\n",
    "8. **Color** *(string)*: The animal's primary/secondary coloring and dominant pattern (if any).\n",
    "\n",
    "The outputs (missing from *test.csv*) include:\n",
    "1. **OutcomeType** *(enum: Adoption, Died, Euthanesia, Return_to_owner, Transfer)*: The primary outcome labels to be modeled and predicted.\n",
    "2. **OutcomeSubtype** *(enum: Suffering, Foster, Partner, Offsite, SCRP, Aggressive, Behavior, Rabies Risk, Medical, In Kennel, In Foster, Barn, Court/Investigation, Enroute, At Vet, In Surgery)*: Secondary outcome labels (not predicted.)"
   ]
  },
  {
   "cell_type": "code",
   "execution_count": 20,
   "metadata": {},
   "outputs": [
    {
     "data": {
      "text/html": [
       "<div>\n",
       "<style>\n",
       "    .dataframe thead tr:only-child th {\n",
       "        text-align: right;\n",
       "    }\n",
       "\n",
       "    .dataframe thead th {\n",
       "        text-align: left;\n",
       "    }\n",
       "\n",
       "    .dataframe tbody tr th {\n",
       "        vertical-align: top;\n",
       "    }\n",
       "</style>\n",
       "<table border=\"1\" class=\"dataframe\">\n",
       "  <thead>\n",
       "    <tr style=\"text-align: right;\">\n",
       "      <th></th>\n",
       "      <th>AnimalID</th>\n",
       "      <th>Name</th>\n",
       "      <th>DateTime</th>\n",
       "      <th>OutcomeType</th>\n",
       "      <th>OutcomeSubtype</th>\n",
       "      <th>AnimalType</th>\n",
       "      <th>SexuponOutcome</th>\n",
       "      <th>AgeuponOutcome</th>\n",
       "      <th>Breed</th>\n",
       "      <th>Color</th>\n",
       "    </tr>\n",
       "  </thead>\n",
       "  <tbody>\n",
       "    <tr>\n",
       "      <th>0</th>\n",
       "      <td>A671945</td>\n",
       "      <td>Hambone</td>\n",
       "      <td>2014-02-12 18:22:00</td>\n",
       "      <td>Return_to_owner</td>\n",
       "      <td>NaN</td>\n",
       "      <td>Dog</td>\n",
       "      <td>Neutered Male</td>\n",
       "      <td>1 year</td>\n",
       "      <td>Shetland Sheepdog Mix</td>\n",
       "      <td>Brown/White</td>\n",
       "    </tr>\n",
       "    <tr>\n",
       "      <th>1</th>\n",
       "      <td>A656520</td>\n",
       "      <td>Emily</td>\n",
       "      <td>2013-10-13 12:44:00</td>\n",
       "      <td>Euthanasia</td>\n",
       "      <td>Suffering</td>\n",
       "      <td>Cat</td>\n",
       "      <td>Spayed Female</td>\n",
       "      <td>1 year</td>\n",
       "      <td>Domestic Shorthair Mix</td>\n",
       "      <td>Cream Tabby</td>\n",
       "    </tr>\n",
       "    <tr>\n",
       "      <th>2</th>\n",
       "      <td>A686464</td>\n",
       "      <td>Pearce</td>\n",
       "      <td>2015-01-31 12:28:00</td>\n",
       "      <td>Adoption</td>\n",
       "      <td>Foster</td>\n",
       "      <td>Dog</td>\n",
       "      <td>Neutered Male</td>\n",
       "      <td>2 years</td>\n",
       "      <td>Pit Bull Mix</td>\n",
       "      <td>Blue/White</td>\n",
       "    </tr>\n",
       "    <tr>\n",
       "      <th>3</th>\n",
       "      <td>A683430</td>\n",
       "      <td>NaN</td>\n",
       "      <td>2014-07-11 19:09:00</td>\n",
       "      <td>Transfer</td>\n",
       "      <td>Partner</td>\n",
       "      <td>Cat</td>\n",
       "      <td>Intact Male</td>\n",
       "      <td>3 weeks</td>\n",
       "      <td>Domestic Shorthair Mix</td>\n",
       "      <td>Blue Cream</td>\n",
       "    </tr>\n",
       "    <tr>\n",
       "      <th>4</th>\n",
       "      <td>A667013</td>\n",
       "      <td>NaN</td>\n",
       "      <td>2013-11-15 12:52:00</td>\n",
       "      <td>Transfer</td>\n",
       "      <td>Partner</td>\n",
       "      <td>Dog</td>\n",
       "      <td>Neutered Male</td>\n",
       "      <td>2 years</td>\n",
       "      <td>Lhasa Apso/Miniature Poodle</td>\n",
       "      <td>Tan</td>\n",
       "    </tr>\n",
       "  </tbody>\n",
       "</table>\n",
       "</div>"
      ],
      "text/plain": [
       "  AnimalID     Name             DateTime      OutcomeType OutcomeSubtype  \\\n",
       "0  A671945  Hambone  2014-02-12 18:22:00  Return_to_owner            NaN   \n",
       "1  A656520    Emily  2013-10-13 12:44:00       Euthanasia      Suffering   \n",
       "2  A686464   Pearce  2015-01-31 12:28:00         Adoption         Foster   \n",
       "3  A683430      NaN  2014-07-11 19:09:00         Transfer        Partner   \n",
       "4  A667013      NaN  2013-11-15 12:52:00         Transfer        Partner   \n",
       "\n",
       "  AnimalType SexuponOutcome AgeuponOutcome                        Breed  \\\n",
       "0        Dog  Neutered Male         1 year        Shetland Sheepdog Mix   \n",
       "1        Cat  Spayed Female         1 year       Domestic Shorthair Mix   \n",
       "2        Dog  Neutered Male        2 years                 Pit Bull Mix   \n",
       "3        Cat    Intact Male        3 weeks       Domestic Shorthair Mix   \n",
       "4        Dog  Neutered Male        2 years  Lhasa Apso/Miniature Poodle   \n",
       "\n",
       "         Color  \n",
       "0  Brown/White  \n",
       "1  Cream Tabby  \n",
       "2   Blue/White  \n",
       "3   Blue Cream  \n",
       "4          Tan  "
      ]
     },
     "execution_count": 20,
     "metadata": {},
     "output_type": "execute_result"
    }
   ],
   "source": [
    "train.head()"
   ]
  },
  {
   "cell_type": "code",
   "execution_count": 21,
   "metadata": {},
   "outputs": [
    {
     "data": {
      "text/html": [
       "<div>\n",
       "<style>\n",
       "    .dataframe thead tr:only-child th {\n",
       "        text-align: right;\n",
       "    }\n",
       "\n",
       "    .dataframe thead th {\n",
       "        text-align: left;\n",
       "    }\n",
       "\n",
       "    .dataframe tbody tr th {\n",
       "        vertical-align: top;\n",
       "    }\n",
       "</style>\n",
       "<table border=\"1\" class=\"dataframe\">\n",
       "  <thead>\n",
       "    <tr style=\"text-align: right;\">\n",
       "      <th></th>\n",
       "      <th>ID</th>\n",
       "      <th>Name</th>\n",
       "      <th>DateTime</th>\n",
       "      <th>AnimalType</th>\n",
       "      <th>SexuponOutcome</th>\n",
       "      <th>AgeuponOutcome</th>\n",
       "      <th>Breed</th>\n",
       "      <th>Color</th>\n",
       "    </tr>\n",
       "  </thead>\n",
       "  <tbody>\n",
       "    <tr>\n",
       "      <th>0</th>\n",
       "      <td>1</td>\n",
       "      <td>Summer</td>\n",
       "      <td>2015-10-12 12:15:00</td>\n",
       "      <td>Dog</td>\n",
       "      <td>Intact Female</td>\n",
       "      <td>10 months</td>\n",
       "      <td>Labrador Retriever Mix</td>\n",
       "      <td>Red/White</td>\n",
       "    </tr>\n",
       "    <tr>\n",
       "      <th>1</th>\n",
       "      <td>2</td>\n",
       "      <td>Cheyenne</td>\n",
       "      <td>2014-07-26 17:59:00</td>\n",
       "      <td>Dog</td>\n",
       "      <td>Spayed Female</td>\n",
       "      <td>2 years</td>\n",
       "      <td>German Shepherd/Siberian Husky</td>\n",
       "      <td>Black/Tan</td>\n",
       "    </tr>\n",
       "    <tr>\n",
       "      <th>2</th>\n",
       "      <td>3</td>\n",
       "      <td>Gus</td>\n",
       "      <td>2016-01-13 12:20:00</td>\n",
       "      <td>Cat</td>\n",
       "      <td>Neutered Male</td>\n",
       "      <td>1 year</td>\n",
       "      <td>Domestic Shorthair Mix</td>\n",
       "      <td>Brown Tabby</td>\n",
       "    </tr>\n",
       "    <tr>\n",
       "      <th>3</th>\n",
       "      <td>4</td>\n",
       "      <td>Pongo</td>\n",
       "      <td>2013-12-28 18:12:00</td>\n",
       "      <td>Dog</td>\n",
       "      <td>Intact Male</td>\n",
       "      <td>4 months</td>\n",
       "      <td>Collie Smooth Mix</td>\n",
       "      <td>Tricolor</td>\n",
       "    </tr>\n",
       "    <tr>\n",
       "      <th>4</th>\n",
       "      <td>5</td>\n",
       "      <td>Skooter</td>\n",
       "      <td>2015-09-24 17:59:00</td>\n",
       "      <td>Dog</td>\n",
       "      <td>Neutered Male</td>\n",
       "      <td>2 years</td>\n",
       "      <td>Miniature Poodle Mix</td>\n",
       "      <td>White</td>\n",
       "    </tr>\n",
       "  </tbody>\n",
       "</table>\n",
       "</div>"
      ],
      "text/plain": [
       "   ID      Name             DateTime AnimalType SexuponOutcome AgeuponOutcome  \\\n",
       "0   1    Summer  2015-10-12 12:15:00        Dog  Intact Female      10 months   \n",
       "1   2  Cheyenne  2014-07-26 17:59:00        Dog  Spayed Female        2 years   \n",
       "2   3       Gus  2016-01-13 12:20:00        Cat  Neutered Male         1 year   \n",
       "3   4     Pongo  2013-12-28 18:12:00        Dog    Intact Male       4 months   \n",
       "4   5   Skooter  2015-09-24 17:59:00        Dog  Neutered Male        2 years   \n",
       "\n",
       "                            Breed        Color  \n",
       "0          Labrador Retriever Mix    Red/White  \n",
       "1  German Shepherd/Siberian Husky    Black/Tan  \n",
       "2          Domestic Shorthair Mix  Brown Tabby  \n",
       "3               Collie Smooth Mix     Tricolor  \n",
       "4            Miniature Poodle Mix        White  "
      ]
     },
     "execution_count": 21,
     "metadata": {},
     "output_type": "execute_result"
    }
   ],
   "source": [
    "test.head()"
   ]
  },
  {
   "cell_type": "code",
   "execution_count": 22,
   "metadata": {},
   "outputs": [
    {
     "name": "stdout",
     "output_type": "stream",
     "text": [
      "<class 'pandas.core.frame.DataFrame'>\n",
      "RangeIndex: 26729 entries, 0 to 26728\n",
      "Data columns (total 10 columns):\n",
      "AnimalID          26729 non-null object\n",
      "Name              19038 non-null object\n",
      "DateTime          26729 non-null object\n",
      "OutcomeType       26729 non-null object\n",
      "OutcomeSubtype    13117 non-null object\n",
      "AnimalType        26729 non-null object\n",
      "SexuponOutcome    26728 non-null object\n",
      "AgeuponOutcome    26711 non-null object\n",
      "Breed             26729 non-null object\n",
      "Color             26729 non-null object\n",
      "dtypes: object(10)\n",
      "memory usage: 2.0+ MB\n"
     ]
    }
   ],
   "source": [
    "train.info()"
   ]
  },
  {
   "cell_type": "markdown",
   "metadata": {},
   "source": [
    "### Feature Observations\n",
    "\n",
    "** Candidates for Engineering **\n",
    "* **AgeuponOutcome** values are expressed in different units (days/months/years) and must be normalized to *days* or a general classification (baby/juvenile/adult/senior).\n",
    "* **SexuponOutcome** combines sex and reproductive status (“fixed male”) combines to unique binary values (fixed/intact and male/female). These must be split into separate **Sex** and **ReproductiveStatus** features.\n",
    "* **Breed** values are typically expressed as either a purebred (“Akita”), mix (“Akita mix”), or primary/secondary combination (“Akita/Husky”). These must either be split and/or consolidated;\n",
    "* **Color** values are typically expressed as a primary/secondary combination (“Brown Tabby/White”) and must be split and/or consolidated.\n",
    "\n",
    "** Candidates for Exclusion **\n",
    "* The **AnimalID** feature is a unique identifier and has no predictive value.\n",
    "* The **Name** feature is missing for ~30% of animals and is highly variable by nature. Including it would lead to OHE explosion. This may be useful for future sentiment analysis, but is not valuable for this classification.\n",
    "* The **OutcomeSubtype** feature is missing for ~half of animals and typically depends on the unique circumstances of each animal; i.e. that an animal is suffering or rabid is not related to its age/sex/disposition generally.\n",
    "\n",
    "** Candidates for Imputing **\n",
    "* The **AgeuponOutome** is missing for a small handful of animals. A numeric value can be easily imputed following normalization; otherwise these entries can be removed."
   ]
  },
  {
   "cell_type": "markdown",
   "metadata": {},
   "source": [
    "### Feature Visualization"
   ]
  },
  {
   "cell_type": "markdown",
   "metadata": {},
   "source": [
    "The goal of this project is to predict outcomes for the shelter animals. Let's break down the training outcomes based on various features to see if patterns emerge. We'll first filter out low-value columns and rows from our training data matrix."
   ]
  },
  {
   "cell_type": "code",
   "execution_count": 23,
   "metadata": {},
   "outputs": [
    {
     "name": "stdout",
     "output_type": "stream",
     "text": [
      "<class 'pandas.core.frame.DataFrame'>\n",
      "Int64Index: 26710 entries, 0 to 26728\n",
      "Data columns (total 7 columns):\n",
      "DateTime          26710 non-null object\n",
      "OutcomeType       26710 non-null object\n",
      "AnimalType        26710 non-null object\n",
      "SexuponOutcome    26710 non-null object\n",
      "AgeuponOutcome    26710 non-null object\n",
      "Breed             26710 non-null object\n",
      "Color             26710 non-null object\n",
      "dtypes: object(7)\n",
      "memory usage: 1.6+ MB\n"
     ]
    }
   ],
   "source": [
    "# Drop low-value columns\n",
    "eda = train.drop(['AnimalID', 'Name', 'OutcomeSubtype'], axis=1)\n",
    "# Drop rows with N/A values in the specified columns\n",
    "eda = eda.dropna(subset=['AgeuponOutcome', 'SexuponOutcome'])\n",
    "eda.info()"
   ]
  },
  {
   "cell_type": "markdown",
   "metadata": {},
   "source": [
    "#### Outcome counts"
   ]
  },
  {
   "cell_type": "code",
   "execution_count": 24,
   "metadata": {
    "collapsed": true
   },
   "outputs": [],
   "source": [
    "import matplotlib.pyplot as plt\n",
    "%matplotlib inline"
   ]
  },
  {
   "cell_type": "markdown",
   "metadata": {},
   "source": [
    "Let's plot counts of the outcomes in our training set to see how representative this sample is of the national trends. In this sample ~2000 animals (7.7%) died or were euthanized while in care. This is much less than the 25% average cull rate reported by the ASPCA. "
   ]
  },
  {
   "cell_type": "code",
   "execution_count": 25,
   "metadata": {},
   "outputs": [
    {
     "data": {
      "text/plain": [
       "Text(0.5,1,'Outcomes')"
      ]
     },
     "execution_count": 25,
     "metadata": {},
     "output_type": "execute_result"
    },
    {
     "data": {
      "text/plain": [
       "<matplotlib.figure.Figure at 0x1090c0be0>"
      ]
     },
     "metadata": {},
     "output_type": "display_data"
    },
    {
     "data": {
      "image/png": "[encoded data removed]",
      "text/plain": [
       "<matplotlib.figure.Figure at 0x1090c0dd8>"
      ]
     },
     "metadata": {},
     "output_type": "display_data"
    }
   ],
   "source": [
    "plt.figure(figsize=(6,4))\n",
    "fig, ax = plt.subplots()\n",
    "eda.OutcomeType.value_counts().sort_index().plot(kind='barh', color=\"blue\", alpha=.65)\n",
    "ax.set_ylim(-1, len(eda.OutcomeType.value_counts())) \n",
    "plt.title(\"Outcomes\")"
   ]
  },
  {
   "cell_type": "code",
   "execution_count": 26,
   "metadata": {
    "collapsed": true
   },
   "outputs": [],
   "source": [
    "# Plot raw and proportional outcomes based on binary categories a, b.\n",
    "def plotSideBySide(category, a, b):\n",
    "    fig = plt.figure(figsize=(18,6))\n",
    "\n",
    "    ax1 = fig.add_subplot(121)\n",
    "    a[0].plot(kind='barh',label=a[1], alpha=0.55)\n",
    "    b[0].plot(kind='barh', color='#FA2379',label=b[1], alpha=0.55, )\n",
    "    ax1.set_ylim(-1, len(eda.OutcomeType.value_counts())) \n",
    "    plt.title(f\"Outcomes with Respect to {category}, raw count\"); plt.legend(loc='best')\n",
    "\n",
    "    #adjust graph to display the proportions of survival by animal type\n",
    "    ax2 = fig.add_subplot(122)\n",
    "    (a[0]/float(a[0].sum())).plot(kind='barh',label=a[1], alpha=0.55)  \n",
    "    (b[0]/float(b[0].sum())).plot(kind='barh', color='#FA2379',label=b[1], alpha=0.55)\n",
    "    ax2.set_ylim(-1, len(eda.OutcomeType.value_counts())) \n",
    "    plt.title(f\"Outcomes with Respect to {category}, proportional\"); plt.legend(loc='best')"
   ]
  },
  {
   "cell_type": "markdown",
   "metadata": {},
   "source": [
    "#### Outcome by Animal Type\n",
    "\n",
    "Dogs are returned to owners at much higher rates, suggesting that many dogs are brought to shelters as strays (microchip your pets!). Cats are transfered to other shelters at higher rates. Dogs and cats are adopted and euthanized in roughly equal proportion. "
   ]
  },
  {
   "cell_type": "code",
   "execution_count": 27,
   "metadata": {},
   "outputs": [
    {
     "data": {
      "image/png": "[encoded data removed]",
      "text/plain": [
       "<matplotlib.figure.Figure at 0x10a732710>"
      ]
     },
     "metadata": {},
     "output_type": "display_data"
    }
   ],
   "source": [
    "df_dog = eda.OutcomeType[eda.AnimalType == 'Dog'].value_counts().sort_index()\n",
    "df_cat = eda.OutcomeType[eda.AnimalType == 'Cat'].value_counts().sort_index()\n",
    "plotSideBySide('Animal Type', (df_dog, 'Dog'), (df_cat, 'Cat'))"
   ]
  },
  {
   "cell_type": "markdown",
   "metadata": {},
   "source": [
    "#### Outcome by Age\n",
    "\n",
    "Juvenile animals (less than 2 years old) are adopted at higher rates, whereas adult animals (2+ years old) are euthanized at higher rates. This is in line with intuition. Interestingly, most runaways tend to be adult animals."
   ]
  },
  {
   "cell_type": "code",
   "execution_count": 28,
   "metadata": {},
   "outputs": [
    {
     "data": {
      "image/png": "[encoded data removed]",
      "text/plain": [
       "<matplotlib.figure.Figure at 0x108d8d668>"
      ]
     },
     "metadata": {},
     "output_type": "display_data"
    }
   ],
   "source": [
    "df_juvenile = eda.OutcomeType[eda.AgeuponOutcome.str.contains('years')==False].value_counts().sort_index()\n",
    "df_adult = eda.OutcomeType[eda.AgeuponOutcome.str.contains('years')==True].value_counts().sort_index()\n",
    "plotSideBySide(\"Age\", (df_juvenile, \"Juvenile (< 2 years)\"), (df_adult, \"Adult (>= 2 years)\"))"
   ]
  },
  {
   "cell_type": "markdown",
   "metadata": {},
   "source": [
    "#### Outcome by Sex and Reproductive Status\n",
    "\n",
    "Female animals are adopted at slightly higher rates whereas male animals are euthanized at slightly higher rates."
   ]
  },
  {
   "cell_type": "code",
   "execution_count": 29,
   "metadata": {},
   "outputs": [
    {
     "data": {
      "image/png": "[encoded data removed]",
      "text/plain": [
       "<matplotlib.figure.Figure at 0x10fc5dfd0>"
      ]
     },
     "metadata": {},
     "output_type": "display_data"
    }
   ],
   "source": [
    "df_male = eda.OutcomeType[eda.SexuponOutcome.str.contains('Male')].value_counts().sort_index()\n",
    "df_female = eda.OutcomeType[eda.SexuponOutcome.str.contains('Female')].value_counts().sort_index()\n",
    "plotSideBySide(\"Sex\", (df_male, 'Male'), (df_female, 'Female'))"
   ]
  },
  {
   "cell_type": "markdown",
   "metadata": {},
   "source": [
    "Fixed animals are adopted a vastly higher rates whereas intact animals are euthanized at higher rates. This is in line with intuition."
   ]
  },
  {
   "cell_type": "code",
   "execution_count": 30,
   "metadata": {},
   "outputs": [
    {
     "data": {
      "image/png": "[encoded data removed]",
      "text/plain": [
       "<matplotlib.figure.Figure at 0x10f920550>"
      ]
     },
     "metadata": {},
     "output_type": "display_data"
    }
   ],
   "source": [
    "df_intact = eda.OutcomeType[eda.SexuponOutcome.str.contains('Intact') == True].value_counts().sort_index()\n",
    "df_fixed = eda.OutcomeType[eda.SexuponOutcome.str.contains('Intact') == False].value_counts().sort_index()\n",
    "plotSideBySide(\"Reproductive Status\", (df_intact, \"Intact\"), (df_fixed, \"Fixed\"))"
   ]
  },
  {
   "cell_type": "markdown",
   "metadata": {},
   "source": [
    "Female animals tend to fare marginally better than male animals with the same reproductive status."
   ]
  },
  {
   "cell_type": "code",
   "execution_count": 31,
   "metadata": {},
   "outputs": [
    {
     "data": {
      "image/png": "[encoded data removed]",
      "text/plain": [
       "<matplotlib.figure.Figure at 0x10fef2ba8>"
      ]
     },
     "metadata": {},
     "output_type": "display_data"
    },
    {
     "data": {
      "image/png": "[encoded data removed]",
      "text/plain": [
       "<matplotlib.figure.Figure at 0x10ffcf278>"
      ]
     },
     "metadata": {},
     "output_type": "display_data"
    }
   ],
   "source": [
    "df_male_intact = eda.OutcomeType[eda.SexuponOutcome.str.contains('Male')][eda.SexuponOutcome.str.contains('Intact') == True].value_counts().sort_index()\n",
    "df_female_intact = eda.OutcomeType[eda.SexuponOutcome.str.contains('Female')][eda.SexuponOutcome.str.contains('Intact') == True].value_counts().sort_index()\n",
    "df_male_fixed = eda.OutcomeType[eda.SexuponOutcome.str.contains('Male')][eda.SexuponOutcome.str.contains('Intact') == False].value_counts().sort_index()\n",
    "df_female_fixed = eda.OutcomeType[eda.SexuponOutcome.str.contains('Female')][eda.SexuponOutcome.str.contains('Intact') == False].value_counts().sort_index()\n",
    "plotSideBySide(\"Status = Intact\", (df_male_intact, \"Male\"), (df_female_intact, \"Female\"))\n",
    "plotSideBySide(\"Status = Fixed\", (df_male_fixed, \"Male\"), (df_female_fixed, \"Female\"))"
   ]
  },
  {
   "cell_type": "markdown",
   "metadata": {},
   "source": [
    "## Metrics \n",
    "This is a multinomial classification problem. The classification algorithms we’ve studied are logistic regression and support vector machines, so these will be our primary candidates. As a stretch goal we will also consider decision trees/random forests, but this is contingent on on the timing of the course. Our goal is to correctly predict animal outcomes, so our primary metric will be classification accuracy. Let's set up a few things to help us capture performance data."
   ]
  },
  {
   "cell_type": "code",
   "execution_count": 403,
   "metadata": {
    "collapsed": true
   },
   "outputs": [],
   "source": [
    "# Imports for metrics\n",
    "from sklearn.metrics import log_loss\n",
    "from sklearn.model_selection import cross_val_score, ShuffleSplit\n",
    "# Imports for stats\n",
    "from scipy import stats\n",
    "from time import time, sleep\n",
    "import pandas as pd\n",
    "from IPython.display import display, HTML\n",
    "                       \n",
    "def pct(x): \n",
    "    \"\"\"Convert a decimal to a percentage\"\"\"\n",
    "    return round(100*x,1)\n",
    "\n",
    "def ftime(f):\n",
    "    \"\"\"Time the execution of some lambda.\n",
    "    Returns a tuple with the result of the lamdba, and the elapsed time.\n",
    "    \"\"\"\n",
    "    t0 = time()\n",
    "    x = f()\n",
    "    elapsed = time() - t0\n",
    "    return (x, round(elapsed, 2))\n",
    "\n",
    "# Set up dataframe printing\n",
    "def prettyPrintDf(df):\n",
    "    display( HTML( df.to_html().replace(\"\\\\n\",\"<br>\") ) )\n",
    "    \n",
    "# Format results\n",
    "def record(df, phase, group, name, train_score, val_score, p_val, train_time, val_time, best_params):\n",
    "    df.loc[len(df)] = [ \n",
    "        phase, \n",
    "        group, \n",
    "        name, \n",
    "        round(train_score,6), \n",
    "        round(val_score,6), \n",
    "        round(p_val,6), \n",
    "        round(train_time, 2), \n",
    "        round(val_time, 2),\n",
    "        best_params\n",
    "    ]"
   ]
  },
  {
   "cell_type": "code",
   "execution_count": 404,
   "metadata": {
    "collapsed": true
   },
   "outputs": [],
   "source": [
    "scoring = 'neg_log_loss'\n",
    "\n",
    "def ohe(preds):\n",
    "    ohe = pd.get_dummies(preds)\n",
    "    if ('Died' not in ohe):\n",
    "        ohe['Died'] = [0]*len(ohe)\n",
    "    return ohe\n",
    "\n",
    "# A convenience functions to OHE and score the predicted vs true labels\n",
    "def oheLogLoss(y_true, y_preds):\n",
    "    return log_loss(ohe(y_true), y_preds)\n",
    "\n"
   ]
  },
  {
   "cell_type": "markdown",
   "metadata": {
    "collapsed": true
   },
   "source": [
    "## Baseline Models and Pipeline\n",
    "\n",
    "In this section we will build a pipeline for a benchmark Logistic Regression model. For this benchmark we will simply one-hot encode the **AnimalType**, **SexuponOutcome**, **AgeuponOutcome**, **Breed**, and **Color** features. Data will be minimally manipulated; feature engineering will begin in earnest in Phase 2."
   ]
  },
  {
   "cell_type": "markdown",
   "metadata": {},
   "source": [
    "### Pipeline Preparation"
   ]
  },
  {
   "cell_type": "markdown",
   "metadata": {},
   "source": [
    "The DataFrameSelector and CategoricalEncoder introduced in HW 10 are a great tools for slicing data frames and one-hot encoding features with text labels. We'll import that code and use it in our pipeline."
   ]
  },
  {
   "cell_type": "code",
   "execution_count": 405,
   "metadata": {
    "collapsed": true
   },
   "outputs": [],
   "source": [
    "# Copy the CategoricalEncoder from HW10\n",
    "from sklearn.base import BaseEstimator, TransformerMixin\n",
    "from sklearn.utils import check_array\n",
    "from sklearn.preprocessing import LabelEncoder\n",
    "from scipy import sparse\n",
    "\n",
    "class DataFrameSelector(BaseEstimator, TransformerMixin):\n",
    "    def __init__(self, attribute_names):\n",
    "        self.attribute_names = attribute_names\n",
    "    def fit(self, X, y=None):\n",
    "        return self\n",
    "    def transform(self, X):\n",
    "        return X[self.attribute_names].values\n",
    "\n",
    "class CategoricalEncoder(BaseEstimator, TransformerMixin):\n",
    "    \"\"\"Encode categorical features as a numeric array.\n",
    "    The input to this transformer should be a matrix of integers or strings,\n",
    "    denoting the values taken on by categorical (discrete) features.\n",
    "    The features can be encoded using a one-hot aka one-of-K scheme\n",
    "    (``encoding='onehot'``, the default) or converted to ordinal integers\n",
    "    (``encoding='ordinal'``).\n",
    "    This encoding is needed for feeding categorical data to many scikit-learn\n",
    "    estimators, notably linear models and SVMs with the standard kernels.\n",
    "    Read more in the :ref:`User Guide <preprocessing_categorical_features>`.\n",
    "    Parameters\n",
    "    ----------\n",
    "    encoding : str, 'onehot', 'onehot-dense' or 'ordinal'\n",
    "        The type of encoding to use (default is 'onehot'):\n",
    "        - 'onehot': encode the features using a one-hot aka one-of-K scheme\n",
    "          (or also called 'dummy' encoding). This creates a binary column for\n",
    "          each category and returns a sparse matrix.\n",
    "        - 'onehot-dense': the same as 'onehot' but returns a dense array\n",
    "          instead of a sparse matrix.\n",
    "        - 'ordinal': encode the features as ordinal integers. This results in\n",
    "          a single column of integers (0 to n_categories - 1) per feature.\n",
    "    categories : 'auto' or a list of lists/arrays of values.\n",
    "        Categories (unique values) per feature:\n",
    "        - 'auto' : Determine categories automatically from the training data.\n",
    "        - list : ``categories[i]`` holds the categories expected in the ith\n",
    "          column. The passed categories are sorted before encoding the data\n",
    "          (used categories can be found in the ``categories_`` attribute).\n",
    "    dtype : number type, default np.float64\n",
    "        Desired dtype of output.\n",
    "    handle_unknown : 'error' (default) or 'ignore'\n",
    "        Whether to raise an error or ignore if a unknown categorical feature is\n",
    "        present during transform (default is to raise). When this is parameter\n",
    "        is set to 'ignore' and an unknown category is encountered during\n",
    "        transform, the resulting one-hot encoded columns for this feature\n",
    "        will be all zeros.\n",
    "        Ignoring unknown categories is not supported for\n",
    "        ``encoding='ordinal'``.\n",
    "    Attributes\n",
    "    ----------\n",
    "    categories_ : list of arrays\n",
    "        The categories of each feature determined during fitting. When\n",
    "        categories were specified manually, this holds the sorted categories\n",
    "        (in order corresponding with output of `transform`).\n",
    "    Examples\n",
    "    --------\n",
    "    Given a dataset with three features and two samples, we let the encoder\n",
    "    find the maximum value per feature and transform the data to a binary\n",
    "    one-hot encoding.\n",
    "    >>> from sklearn.preprocessing import CategoricalEncoder\n",
    "    >>> enc = CategoricalEncoder(handle_unknown='ignore')\n",
    "    >>> enc.fit([[0, 0, 3], [1, 1, 0], [0, 2, 1], [1, 0, 2]])\n",
    "    ... # doctest: +ELLIPSIS\n",
    "    CategoricalEncoder(categories='auto', dtype=<... 'numpy.float64'>,\n",
    "              encoding='onehot', handle_unknown='ignore')\n",
    "    >>> enc.transform([[0, 1, 1], [1, 0, 4]]).toarray()\n",
    "    array([[ 1.,  0.,  0.,  1.,  0.,  0.,  1.,  0.,  0.],\n",
    "           [ 0.,  1.,  1.,  0.,  0.,  0.,  0.,  0.,  0.]])\n",
    "    See also\n",
    "    --------\n",
    "    sklearn.preprocessing.OneHotEncoder : performs a one-hot encoding of\n",
    "      integer ordinal features. The ``OneHotEncoder assumes`` that input\n",
    "      features take on values in the range ``[0, max(feature)]`` instead of\n",
    "      using the unique values.\n",
    "    sklearn.feature_extraction.DictVectorizer : performs a one-hot encoding of\n",
    "      dictionary items (also handles string-valued features).\n",
    "    sklearn.feature_extraction.FeatureHasher : performs an approximate one-hot\n",
    "      encoding of dictionary items or strings.\n",
    "    \"\"\"\n",
    "\n",
    "    def __init__(self, encoding='onehot', categories='auto', dtype=np.float64,\n",
    "                 handle_unknown='error'):\n",
    "        self.encoding = encoding\n",
    "        self.categories = categories\n",
    "        self.dtype = dtype\n",
    "        self.handle_unknown = handle_unknown\n",
    "\n",
    "    def fit(self, X, y=None):\n",
    "        \"\"\"Fit the CategoricalEncoder to X.\n",
    "        Parameters\n",
    "        ----------\n",
    "        X : array-like, shape [n_samples, n_feature]\n",
    "            The data to determine the categories of each feature.\n",
    "        Returns\n",
    "        -------\n",
    "        self\n",
    "        \"\"\"\n",
    "\n",
    "        if self.encoding not in ['onehot', 'onehot-dense', 'ordinal']:\n",
    "            template = (\"encoding should be either 'onehot', 'onehot-dense' \"\n",
    "                        \"or 'ordinal', got %s\")\n",
    "            raise ValueError(template % self.handle_unknown)\n",
    "\n",
    "        if self.handle_unknown not in ['error', 'ignore']:\n",
    "            template = (\"handle_unknown should be either 'error' or \"\n",
    "                        \"'ignore', got %s\")\n",
    "            raise ValueError(template % self.handle_unknown)\n",
    "\n",
    "        if self.encoding == 'ordinal' and self.handle_unknown == 'ignore':\n",
    "            raise ValueError(\"handle_unknown='ignore' is not supported for\"\n",
    "                             \" encoding='ordinal'\")\n",
    "\n",
    "        X = check_array(X, dtype=np.object, accept_sparse='csc', copy=True)\n",
    "        n_samples, n_features = X.shape\n",
    "\n",
    "        self._label_encoders_ = [LabelEncoder() for _ in range(n_features)]\n",
    "\n",
    "        for i in range(n_features):\n",
    "            le = self._label_encoders_[i]\n",
    "            Xi = X[:, i]\n",
    "            if self.categories == 'auto':\n",
    "                le.fit(Xi)\n",
    "            else:\n",
    "                valid_mask = np.in1d(Xi, self.categories[i])\n",
    "                if not np.all(valid_mask):\n",
    "                    if self.handle_unknown == 'error':\n",
    "                        diff = np.unique(Xi[~valid_mask])\n",
    "                        msg = (\"Found unknown categories {0} in column {1}\"\n",
    "                               \" during fit\".format(diff, i))\n",
    "                        raise ValueError(msg)\n",
    "                le.classes_ = np.array(np.sort(self.categories[i]))\n",
    "\n",
    "        self.categories_ = [le.classes_ for le in self._label_encoders_]\n",
    "\n",
    "        return self\n",
    "\n",
    "    def transform(self, X):\n",
    "        \"\"\"Transform X using one-hot encoding.\n",
    "        Parameters\n",
    "        ----------\n",
    "        X : array-like, shape [n_samples, n_features]\n",
    "            The data to encode.\n",
    "        Returns\n",
    "        -------\n",
    "        X_out : sparse matrix or a 2-d array\n",
    "            Transformed input.\n",
    "        \"\"\"\n",
    "        X = check_array(X, accept_sparse='csc', dtype=np.object, copy=True)\n",
    "        n_samples, n_features = X.shape\n",
    "        X_int = np.zeros_like(X, dtype=np.int)\n",
    "        X_mask = np.ones_like(X, dtype=np.bool)\n",
    "\n",
    "        for i in range(n_features):\n",
    "            valid_mask = np.in1d(X[:, i], self.categories_[i])\n",
    "\n",
    "            if not np.all(valid_mask):\n",
    "                if self.handle_unknown == 'error':\n",
    "                    diff = np.unique(X[~valid_mask, i])\n",
    "                    msg = (\"Found unknown categories {0} in column {1}\"\n",
    "                           \" during transform\".format(diff, i))\n",
    "                    raise ValueError(msg)\n",
    "                else:\n",
    "                    # Set the problematic rows to an acceptable value and\n",
    "                    # continue `The rows are marked `X_mask` and will be\n",
    "                    # removed later.\n",
    "                    X_mask[:, i] = valid_mask\n",
    "                    X[:, i][~valid_mask] = self.categories_[i][0]\n",
    "            X_int[:, i] = self._label_encoders_[i].transform(X[:, i])\n",
    "\n",
    "        if self.encoding == 'ordinal':\n",
    "            return X_int.astype(self.dtype, copy=False)\n",
    "\n",
    "        mask = X_mask.ravel()\n",
    "        n_values = [cats.shape[0] for cats in self.categories_]\n",
    "        n_values = np.array([0] + n_values)\n",
    "        indices = np.cumsum(n_values)\n",
    "\n",
    "        column_indices = (X_int + indices[:-1]).ravel()[mask]\n",
    "        row_indices = np.repeat(np.arange(n_samples, dtype=np.int32),\n",
    "                                n_features)[mask]\n",
    "        data = np.ones(n_samples * n_features)[mask]\n",
    "\n",
    "        out = sparse.csc_matrix((data, (row_indices, column_indices)),\n",
    "                                shape=(n_samples, indices[-1]),\n",
    "                                dtype=self.dtype).tocsr()\n",
    "        if self.encoding == 'onehot-dense':\n",
    "            return out.toarray()\n",
    "        else:\n",
    "            return out"
   ]
  },
  {
   "cell_type": "markdown",
   "metadata": {},
   "source": [
    "The *CategoricalEncoder* does not deal well with categorical entries that lack labels (NaN), so we'll need a pipeline steap that can fill any empty/nan label cells with *Unknown* or similar. I'll call this a *CategoricalNormalizer*."
   ]
  },
  {
   "cell_type": "code",
   "execution_count": 406,
   "metadata": {
    "collapsed": true
   },
   "outputs": [],
   "source": [
    "class CategoricalNormalizer(BaseEstimator, TransformerMixin):\n",
    "    def __init__(self, value):\n",
    "        self.value = value\n",
    "    def normalize(self, X):\n",
    "        # Coallesce an empty string to the fill value\n",
    "        def mapStr(x): return (x.strip() or self.value) if x else self.value\n",
    "        # Coallesce nan values to the fill value\n",
    "        def mapCell(x): return mapStr(x) if isinstance(x, str) else self.value\n",
    "        # Normalize every item in the row\n",
    "        def mapRow(r): return list(map(mapCell, r))\n",
    "        # Normalize every item in the 2D matrix\n",
    "        return list(map(mapRow, X));\n",
    "    def fit(self, X, y=None):\n",
    "        return self\n",
    "    def transform(self, X):        \n",
    "        return self.normalize(X)"
   ]
  },
  {
   "cell_type": "markdown",
   "metadata": {},
   "source": [
    "We'll now create a data pipeline to select and one-hot encode our columns of interest."
   ]
  },
  {
   "cell_type": "code",
   "execution_count": 407,
   "metadata": {
    "collapsed": true
   },
   "outputs": [],
   "source": [
    "from sklearn.pipeline import Pipeline\n",
    "from sklearn.linear_model import LogisticRegressionCV\n",
    "\n",
    "# Identify the categorical features we wish to consider.\n",
    "cat_attribs = [\n",
    "    \"AnimalType\",\n",
    "    \"SexuponOutcome\",\n",
    "    \"AgeuponOutcome\",\n",
    "    \"Color\",\n",
    "    \"Breed\"\n",
    "]\n",
    "\n",
    "# Create a pipelne for the categorical features.\n",
    "# Entries with missing values or values that don't exist in the range\n",
    "#   defined above will be one hot encoded as zeroes.\n",
    "base_cat_pipeline = Pipeline([\n",
    "        ('selector', DataFrameSelector(cat_attribs)),\n",
    "        ('cat_normalizer', CategoricalNormalizer(\"Unknown\")),\n",
    "        ('cat_encoder', CategoricalEncoder(encoding=\"onehot-dense\", handle_unknown=\"ignore\"))\n",
    "    ])"
   ]
  },
  {
   "cell_type": "markdown",
   "metadata": {},
   "source": [
    "### Data Preparation"
   ]
  },
  {
   "cell_type": "markdown",
   "metadata": {},
   "source": [
    "Split the training data into train (80%) and validation (20%) sets."
   ]
  },
  {
   "cell_type": "code",
   "execution_count": 408,
   "metadata": {},
   "outputs": [
    {
     "name": "stdout",
     "output_type": "stream",
     "text": [
      "Train (full): (21383, 10)\n",
      "Train (slim): (5000, 10)\n",
      "Validation:   (5346, 10)\n"
     ]
    }
   ],
   "source": [
    "from sklearn.model_selection import train_test_split\n",
    "\n",
    "slimSize = 5000\n",
    "\n",
    "train_split, val_split = train_test_split(train, test_size=0.2, random_state=42)\n",
    "\n",
    "X_train = train_split\n",
    "y_train = train_split.OutcomeType\n",
    "print(f\"Train (full): {X_train.shape}\")\n",
    "\n",
    "idx = np.random.choice(np.arange(len(X_train)), slimSize, replace=False)\n",
    "X_train_slim = X_train[:slimSize]\n",
    "y_train_slim = y_train[:slimSize]\n",
    "print(f\"Train (slim): {X_train_slim.shape}\")\n",
    "\n",
    "X_val = val_split\n",
    "y_val = val_split.OutcomeType\n",
    "print(f\"Validation:   {X_val.shape}\")"
   ]
  },
  {
   "cell_type": "markdown",
   "metadata": {},
   "source": [
    "Let's see how many OHE columns we get as a result of our baseline transform."
   ]
  },
  {
   "cell_type": "code",
   "execution_count": 409,
   "metadata": {},
   "outputs": [
    {
     "name": "stdout",
     "output_type": "stream",
     "text": [
      "Train (full): (21383, 1629)\n",
      "Train (slim): (5000, 1629)\n",
      "Validation:   (5346, 1629)\n"
     ]
    }
   ],
   "source": [
    "X_train_tx = base_cat_pipeline.fit_transform(X_train)\n",
    "X_train_slim_tx = base_cat_pipeline.transform(X_train_slim)\n",
    "X_val_tx = base_cat_pipeline.transform(X_val)\n",
    "\n",
    "print (f\"Train (full): {X_train_tx.shape}\")\n",
    "print (f\"Train (slim): {X_train_slim_tx.shape}\")\n",
    "print (f\"Validation:   {X_val_tx.shape}\")"
   ]
  },
  {
   "cell_type": "markdown",
   "metadata": {},
   "source": [
    "We went from 10 columns in the raw dataframe to 1629 columns in the transformed dataframe. That sure seems like a lot!"
   ]
  },
  {
   "cell_type": "markdown",
   "metadata": {},
   "source": [
    "### Model Fitting and Scoring"
   ]
  },
  {
   "cell_type": "markdown",
   "metadata": {},
   "source": [
    "For a baseline model we'll use a LogisticRegressionCV with the following non-default paramters:\n",
    "+ *solver='**liblinear**'* for speed, \n",
    "+ *multi_class='**ovr**'* for a confidence floor (a single label is selected), \n",
    "+ *scoring='**neg_log_loss**'* to align with Kaggle scoring metric."
   ]
  },
  {
   "cell_type": "code",
   "execution_count": 410,
   "metadata": {
    "collapsed": true
   },
   "outputs": [],
   "source": [
    "from sklearn.linear_model import LogisticRegressionCV\n",
    "\n",
    "\n",
    "# Create baseline model\n",
    "baseline = LogisticRegressionCV(solver=\"liblinear\", multi_class=\"ovr\", scoring=scoring, random_state=42)\n",
    "\n",
    "# Fit\n",
    "(_, train_elapsed) = ftime(lambda: baseline.fit(X_train_slim_tx, y_train_slim))\n",
    "\n",
    "# Predict\n",
    "train_preds = baseline.predict_proba(X_train_slim_tx)\n",
    "(val_preds, val_elapsed) = ftime(lambda: baseline.predict_proba(X_val_tx))\n",
    "\n",
    "# Score\n",
    "train_score = oheLogLoss(y_train_slim, train_preds)\n",
    "val_score = oheLogLoss(y_val, val_preds)"
   ]
  },
  {
   "cell_type": "code",
   "execution_count": 411,
   "metadata": {},
   "outputs": [
    {
     "data": {
      "text/plain": [
       "array([ 0.90114389,  0.91225871,  0.89197924,  0.92656582,  0.92987268,\n",
       "        0.89316259,  0.92486578,  0.92180166,  0.92898783,  0.90223599,\n",
       "        0.91205544,  0.90746062,  0.92440001,  0.91561221,  0.91811968,\n",
       "        0.92214791,  0.93217297,  0.92524216,  0.93721522,  0.89906193,\n",
       "        0.91409221,  0.90876064,  0.93703825,  0.90167652,  0.90960944,\n",
       "        0.91540324,  0.92047886,  0.90181657,  0.96056694,  0.93016893])"
      ]
     },
     "execution_count": 411,
     "metadata": {},
     "output_type": "execute_result"
    }
   ],
   "source": [
    "# Scores for P-value\n",
    "cv = ShuffleSplit(n_splits=30, test_size=0.3, random_state=0)\n",
    "baseline_scores = -1 * cross_val_score(baseline, X_train_slim_tx, y_train_slim, cv=cv, scoring=scoring)\n",
    "baseline_scores"
   ]
  },
  {
   "cell_type": "code",
   "execution_count": 412,
   "metadata": {},
   "outputs": [
    {
     "data": {
      "text/html": [
       "<table border=\"1\" class=\"dataframe\">\n",
       "  <thead>\n",
       "    <tr style=\"text-align: right;\">\n",
       "      <th></th>\n",
       "      <th>Phase</th>\n",
       "      <th>Pipeline</th>\n",
       "      <th>Classifier</th>\n",
       "      <th>Train Log Loss</th>\n",
       "      <th>Validation Log Loss</th>\n",
       "      <th>p-value</th>\n",
       "      <th>Train Time (s)</th>\n",
       "      <th>Test Time (s)</th>\n",
       "      <th>Experiment description</th>\n",
       "    </tr>\n",
       "  </thead>\n",
       "  <tbody>\n",
       "    <tr>\n",
       "      <th>0</th>\n",
       "      <td>1</td>\n",
       "      <td>Baseline</td>\n",
       "      <td>LogisticRegression (Ctl)</td>\n",
       "      <td>0.838004</td>\n",
       "      <td>0.907733</td>\n",
       "      <td>0</td>\n",
       "      <td>3.31</td>\n",
       "      <td>0.05</td>\n",
       "      <td>multi_class: ovr<br>solver: liblinear</td>\n",
       "    </tr>\n",
       "  </tbody>\n",
       "</table>"
      ],
      "text/plain": [
       "<IPython.core.display.HTML object>"
      ]
     },
     "metadata": {},
     "output_type": "display_data"
    }
   ],
   "source": [
    "# Set up reporting data frame.\n",
    "results = pd.DataFrame(columns=[\"Phase\", \"Pipeline\", \"Classifier\", \"Train Log Loss\", \"Validation Log Loss\", \"p-value\", \"Train Time (s)\", \"Test Time (s)\", \"Experiment description\"])\n",
    "# Record and print baseline results\n",
    "record(results, 1, \"Baseline\", \"LogisticRegression (Ctl)\", train_score, val_score, 0, train_elapsed, val_elapsed, \"multi_class: ovr\\nsolver: liblinear\")\n",
    "prettyPrintDf(results)"
   ]
  },
  {
   "cell_type": "markdown",
   "metadata": {
    "collapsed": true
   },
   "source": [
    "## Report"
   ]
  },
  {
   "cell_type": "markdown",
   "metadata": {},
   "source": [
    "### Kaggle Submission"
   ]
  },
  {
   "cell_type": "code",
   "execution_count": 413,
   "metadata": {},
   "outputs": [
    {
     "name": "stdout",
     "output_type": "stream",
     "text": [
      "Saved file to /users/jhoerr/Documents/baseline_submission_1524013840.817586.csv\n"
     ]
    }
   ],
   "source": [
    "def kaggleSubmission(pipeline, estimator):\n",
    "    X_test = pipeline.transform(test)\n",
    "    test_preds = estimator.predict_proba(X_test)\n",
    "    df = pd.DataFrame()\n",
    "    df.insert(0, \"ID\", test.ID)\n",
    "    df.insert(1, \"Adoption\", test_preds[:,0])\n",
    "    df.insert(2, \"Died\", test_preds[:,1])\n",
    "    df.insert(3, \"Euthanasia\", test_preds[:,2])\n",
    "    df.insert(4, \"Return_to_owner\", test_preds[:,3])\n",
    "    df.insert(5, \"Transfer\", test_preds[:,4])\n",
    "    path = f'/users/jhoerr/Documents/baseline_submission_{time()}.csv'\n",
    "    df.to_csv(path, index=False)\n",
    "    print (f\"Saved file to {path}\")\n",
    "    \n",
    "kaggleSubmission(base_cat_pipeline, baseline)"
   ]
  },
  {
   "attachments": {
    "image.png": {
     "image/png": "[encoded data removed]"
    }
   },
   "cell_type": "markdown",
   "metadata": {},
   "source": [
    "![image.png](attachment:image.png)"
   ]
  },
  {
   "cell_type": "markdown",
   "metadata": {},
   "source": [
    "### Remarks\n",
    "\n",
    "Our baseline model's validation prediction log-loss was 0.88. The Kaggle submission log-loss (above) was 0.89. This put it in the bottom half of Kaggle submissions (rank ~930 of ~1600.) There's obviously a lot of room for improvement.\n",
    "\n",
    "Feature engineering in Phase 2 will help us reign in the OHE feature explosion that occured with the training data in Phase 1. We'll start with the candidates identified in [Section 2.2.1 Feature Observations](#Feature-Observations)."
   ]
  },
  {
   "cell_type": "markdown",
   "metadata": {
    "collapsed": true
   },
   "source": [
    "# Phase 2"
   ]
  },
  {
   "cell_type": "markdown",
   "metadata": {},
   "source": [
    "## Revisions to Phase 1\n",
    "\n",
    "I discovered that LinearRegressionCV provides several prediction methods. *Predict()* assigns a single label per sample, whereas *Predict_proba()* assigns the probability of each label. The later method aligns with Kaggles scoring metric. I retooled the baseline classifier to use this probabilistic prediction method and realized a reduction of the baseline log-loss from ~12 to ~0.89 and improved our Kaggle rank from ~1400 to ~930. I will limit classifier selection to those that implement probabilistic predictions."
   ]
  },
  {
   "cell_type": "markdown",
   "metadata": {
    "collapsed": true
   },
   "source": [
    "## Feature Engineering (Round 1)\n",
    "\n",
    "In [Section 2.2.1 Feature Observations](#Feature-Observations) we identified several candidates for feature engineering.\n",
    "\n",
    "* **AgeuponOutcome** values are expressed in different units (days/months/years) and must be normalized to *days* or a general classification (baby/juvenile/adult/senior).\n",
    "* **SexuponOutcome** combines sex and reproductive status (“fixed male”) combines to unique binary values (fixed/intact and male/female). These must be split into separate **Sex** and **ReproductiveStatus** features.\n",
    "* **Breed** values are typically expressed as either a purebred (“Akita”), mix (“Akita mix”), or primary/secondary combination (“Akita/Husky”). These must either be split and/or consolidated;\n",
    "* **Color** values are typically expressed as a primary/secondary combination (“Brown Tabby/White”) and must be split and/or consolidated."
   ]
  },
  {
   "cell_type": "code",
   "execution_count": 414,
   "metadata": {
    "collapsed": true
   },
   "outputs": [],
   "source": [
    "import numpy as np\n",
    "import pandas as pd\n",
    "import math as math\n",
    "\n",
    "# Helper functions\n",
    "\n",
    "# Return the ith string in a list or \"none\"\n",
    "def nth(a, i): \n",
    "    return a[i].lower().strip() if len(a) > i else \"none\" \n",
    "# Return the first string in the list or \"none\"\n",
    "def fst(a): return nth(a, 0)\n",
    "# Return the second string in the list or \"none\"\n",
    "def snd(a): return nth(a, 1)\n",
    "# determine if this value is empty/nan\n",
    "def nothing(s): \n",
    "    return isinstance(s, float) or not s or not s.strip()\n",
    "# Return a new dataframe with the \n",
    "def append(df, label, data):\n",
    "    cp = pd.DataFrame.copy(df)\n",
    "    cp.insert(len(df.columns), label, data)\n",
    "    return cp"
   ]
  },
  {
   "cell_type": "markdown",
   "metadata": {},
   "source": [
    "### Normalize *AgeuponOutcome*\n",
    "\n",
    "New Column: **AgeInDays**  \n",
    "Purpose: Convert values like '1 week' and '5 months' to an equivalent number of days. Missing values will be converted to NaN and imputed prior to scaling."
   ]
  },
  {
   "cell_type": "markdown",
   "metadata": {},
   "source": [
    "#### Transformer"
   ]
  },
  {
   "cell_type": "code",
   "execution_count": 415,
   "metadata": {
    "collapsed": true
   },
   "outputs": [],
   "source": [
    "from sklearn.base import BaseEstimator, TransformerMixin\n",
    "\n",
    "class AgeNormalizer(BaseEstimator, TransformerMixin):\n",
    "    def fit(self, X, y=None):\n",
    "        return self\n",
    "    def transform(self, X):\n",
    "        def parseNumUnit(s):\n",
    "            if nothing(s): return (0, 'nan')\n",
    "            parts = s.strip().lower().split(' ')\n",
    "            return (int(parts[0]), parts[1])\n",
    "        def ageInDays(s):\n",
    "            (num, unit) = parseNumUnit(s)\n",
    "            if   'day'   in unit: return num\n",
    "            elif 'week'  in unit: return num * 7\n",
    "            elif 'month' in unit: return num * 30\n",
    "            elif 'year'  in unit: return num * 365\n",
    "            else: return math.nan\n",
    "\n",
    "        X = append(X, 'AgeInDays', list(map(ageInDays, X['AgeuponOutcome'])))\n",
    "        return X"
   ]
  },
  {
   "cell_type": "markdown",
   "metadata": {},
   "source": [
    "#### Unit Test"
   ]
  },
  {
   "cell_type": "code",
   "execution_count": 416,
   "metadata": {
    "collapsed": true
   },
   "outputs": [],
   "source": [
    "sut = AgeNormalizer()"
   ]
  },
  {
   "cell_type": "code",
   "execution_count": 417,
   "metadata": {},
   "outputs": [
    {
     "name": "stdout",
     "output_type": "stream",
     "text": [
      "True\n"
     ]
    }
   ],
   "source": [
    "# Test Conversion\n",
    "values =   [ '1 day', '2 days', '1 week', '2 weeks', '1 month', '3 months', '1 year', '3 years']\n",
    "expected = [      1,        2,      1*7,       2*7,     1*30,        3*30,    1*365,     3*365]\n",
    "\n",
    "df = pd.DataFrame()\n",
    "df['AgeuponOutcome'] = values\n",
    "actual = sut.transform(df)\n",
    "\n",
    "print((actual.AgeInDays == expected).all())"
   ]
  },
  {
   "cell_type": "code",
   "execution_count": 418,
   "metadata": {},
   "outputs": [
    {
     "name": "stdout",
     "output_type": "stream",
     "text": [
      "True\n"
     ]
    }
   ],
   "source": [
    "# Test Empty String Handling\n",
    "values =   [ ' ', '']\n",
    "\n",
    "df = pd.DataFrame()\n",
    "df['AgeuponOutcome'] = values\n",
    "actual = sut.transform(df)\n",
    "\n",
    "print(all(math.isnan(val) for val in actual.AgeInDays))"
   ]
  },
  {
   "cell_type": "markdown",
   "metadata": {},
   "source": [
    "### Split *SexuponOutcome*\n",
    "\n",
    "New Columns: **Sex**, **Status**  \n",
    "Purpose: Split combined sex and reproductive status (\"fixed male\") values into separate columns. Missing values will be labeld as 'unknown'."
   ]
  },
  {
   "cell_type": "markdown",
   "metadata": {},
   "source": [
    "#### Transformer"
   ]
  },
  {
   "cell_type": "code",
   "execution_count": 419,
   "metadata": {
    "collapsed": true
   },
   "outputs": [],
   "source": [
    "from sklearn.base import BaseEstimator, TransformerMixin\n",
    "\n",
    "class SexNormalizer(BaseEstimator, TransformerMixin):\n",
    "    def fit(self, X, y=None):\n",
    "        return self\n",
    "    def transform(self, X):\n",
    "        def sex(s):\n",
    "            if nothing(s): return \"unknown\"\n",
    "            return \"female\" if \"female\" in s.lower() else \"male\"\n",
    "        def status(s):\n",
    "            if nothing(s): return \"unknown\"\n",
    "            return \"intact\" if \"intact\" in s.lower() else \"fixed\"\n",
    "        \n",
    "        X = append(X, 'Sex', list(map(sex, X['SexuponOutcome'])))\n",
    "        X = append(X, 'Status', list(map(status, X['SexuponOutcome'])))\n",
    "        return X"
   ]
  },
  {
   "cell_type": "markdown",
   "metadata": {},
   "source": [
    "#### Unit Test"
   ]
  },
  {
   "cell_type": "code",
   "execution_count": 420,
   "metadata": {
    "collapsed": true
   },
   "outputs": [],
   "source": [
    "df = pd.DataFrame()\n",
    "df['SexuponOutcome'] = [ 'Neutered Male', 'Spayed Female', 'Intact Male', 'Intact Female']\n",
    "\n",
    "actual = SexNormalizer().transform(df)"
   ]
  },
  {
   "cell_type": "code",
   "execution_count": 421,
   "metadata": {},
   "outputs": [
    {
     "name": "stdout",
     "output_type": "stream",
     "text": [
      "True\n"
     ]
    }
   ],
   "source": [
    "expected = [ 'male', 'female', 'male', 'female']\n",
    "print((actual.Sex == expected).all())"
   ]
  },
  {
   "cell_type": "code",
   "execution_count": 422,
   "metadata": {},
   "outputs": [
    {
     "name": "stdout",
     "output_type": "stream",
     "text": [
      "True\n"
     ]
    }
   ],
   "source": [
    "expected = [ 'fixed', 'fixed', 'intact', 'intact']\n",
    "print((actual.Status == expected).all())"
   ]
  },
  {
   "cell_type": "markdown",
   "metadata": {},
   "source": [
    "### Normalize *Color*\n",
    "\n",
    "New Columns: **PrimaryColor**, **PrimaryPattern**, **SecondaryColor**, **SecondaryPattern**  \n",
    "Purpose: Split combined primary/secondary color/pattern (\"Brown Tabby/White\") into separate columns. Similar colors (\"orange\", \"apricot\", \"flame\") will be combined (\"orange.\") Missing values will be labeled as 'none'. "
   ]
  },
  {
   "cell_type": "markdown",
   "metadata": {},
   "source": [
    "#### Explore"
   ]
  },
  {
   "cell_type": "code",
   "execution_count": 423,
   "metadata": {},
   "outputs": [
    {
     "name": "stdout",
     "output_type": "stream",
     "text": [
      "\n",
      "Primary Colors:\n",
      "['agouti' 'apricot' 'black' 'blue' 'brown' 'buff' 'calico' 'chocolate'\n",
      " 'cream' 'fawn' 'flame' 'gold' 'gray' 'lilac' 'liver' 'lynx' 'orange'\n",
      " 'pink' 'red' 'ruddy' 'sable' 'seal' 'silver' 'tan' 'torbie' 'tortie'\n",
      " 'tricolor' 'white' 'yellow']\n",
      "\n",
      "Primary Patterns:\n",
      "['brindle' 'cream' 'lynx' 'merle' 'none' 'point' 'smoke' 'tabby' 'tick'\n",
      " 'tiger']\n",
      "\n",
      "Secondary Colors:\n",
      "['apricot' 'black' 'blue' 'brown' 'buff' 'calico' 'chocolate' 'cream'\n",
      " 'flame' 'gold' 'gray' 'liver' 'lynx' 'none' 'orange' 'pink' 'red' 'seal'\n",
      " 'silver' 'tan' 'tortie' 'tricolor' 'white' 'yellow']\n",
      "\n",
      "Secondary Patterns:\n",
      "['brindle' 'cream' 'merle' 'none' 'point' 'smoke' 'tabby' 'tick' 'tiger']\n"
     ]
    }
   ],
   "source": [
    "vals = train.Color.values\n",
    "\n",
    "primary_color = list(map(lambda s: fst(fst(s.split(\"/\")).split(\" \")), vals))\n",
    "print(f\"\\nPrimary Colors:\\n{np.unique((primary_color))}\")\n",
    "\n",
    "primary_pattern = list(map(lambda s: snd(fst(s.split(\"/\")).split(\" \")), vals))\n",
    "print(f\"\\nPrimary Patterns:\\n{np.unique(np.sort(primary_pattern))}\")\n",
    "\n",
    "secondary_color = list(map(lambda s: fst(snd(s.split(\"/\")).split(\" \")), vals))\n",
    "print(f\"\\nSecondary Colors:\\n{np.unique(np.sort(secondary_color))}\")\n",
    "\n",
    "secondary_pattern = list(map(lambda s: snd(snd(s.split(\"/\")).split(\" \")), vals))\n",
    "print(f\"\\nSecondary Patterns:\\n{np.unique(np.sort(secondary_pattern))}\")"
   ]
  },
  {
   "cell_type": "markdown",
   "metadata": {},
   "source": [
    "#### Transformer"
   ]
  },
  {
   "cell_type": "code",
   "execution_count": 424,
   "metadata": {
    "collapsed": true
   },
   "outputs": [],
   "source": [
    "from sklearn.base import BaseEstimator, TransformerMixin\n",
    "\n",
    "class ColorNormalizer(BaseEstimator, TransformerMixin):\n",
    "    def fit(self, X, y=None):\n",
    "        return self\n",
    "    def transform(self, X):\n",
    "        def color(s): \n",
    "            if s in \"black\": return \"black\"\n",
    "            elif s in \"white\": return \"white\"\n",
    "            elif s in [\"blue\", \"silver\", \"lilac\"]: return \"blue\"\n",
    "            elif s in [\"orange\",\"apricot\", \"flame\"]: return \"orange\"\n",
    "            elif s in [\"red\", \"ruddy\", \"pink\", \"liver\"]: return \"red\"\n",
    "            elif s in [\"brown\", \"chocolate\", \"sable\", \"seal\"]: return \"brown\"\n",
    "            elif s in [\"yellow\", \"gold\", \"buff\", \"cream\", \"fawn\", \"tan\"]: return \"yellow\"\n",
    "            elif s in [\"agouti\", \"calico\", \"torbie\", \"tortie\", \"tricolor\", \"lynx\"]: return \"multi\"\n",
    "            else: return s\n",
    "        \n",
    "        def primaryColor(s): return \"col_\" + color(fst(fst(s.split(\"/\")).split(\" \")))\n",
    "        def primaryPattern(s): return \"pat_\" + snd(fst(s.split(\"/\")).split(\" \"))\n",
    "        def secondaryColor(s): return \"col_\" + color(fst(snd(s.split(\"/\")).split(\" \")))\n",
    "        def secondaryPattern(s): return \"pat_\" + snd(snd(s.split(\"/\")).split(\" \"))\n",
    "            \n",
    "        X = append(X, 'PrimaryColor', list(map(primaryColor, X['Color'])))\n",
    "        X = append(X, 'PrimaryPattern', list(map(primaryPattern, X['Color'])))\n",
    "        X = append(X, 'SecondaryColor', list(map(secondaryColor, X['Color'])))\n",
    "        X = append(X, 'SecondaryPattern', list(map(secondaryPattern, X['Color'])))\n",
    "        return X"
   ]
  },
  {
   "cell_type": "markdown",
   "metadata": {},
   "source": [
    "#### Unit Test"
   ]
  },
  {
   "cell_type": "code",
   "execution_count": 425,
   "metadata": {
    "collapsed": true
   },
   "outputs": [],
   "source": [
    "df = pd.DataFrame()\n",
    "df['Color'] = [ 'Brown', 'Brown/White', 'orange tabby/white', 'flame brindle/lilac tiger']\n",
    "\n",
    "actual = ColorNormalizer().transform(df)"
   ]
  },
  {
   "cell_type": "code",
   "execution_count": 426,
   "metadata": {},
   "outputs": [
    {
     "name": "stdout",
     "output_type": "stream",
     "text": [
      "True\n"
     ]
    }
   ],
   "source": [
    "expected = [ 'col_brown', 'col_brown', 'col_orange', 'col_orange']\n",
    "print((actual.PrimaryColor == expected).all())"
   ]
  },
  {
   "cell_type": "code",
   "execution_count": 427,
   "metadata": {},
   "outputs": [
    {
     "name": "stdout",
     "output_type": "stream",
     "text": [
      "True\n"
     ]
    }
   ],
   "source": [
    "expected = [ 'pat_none', 'pat_none', 'pat_tabby', 'pat_brindle']\n",
    "print((actual.PrimaryPattern == expected).all())"
   ]
  },
  {
   "cell_type": "code",
   "execution_count": 428,
   "metadata": {},
   "outputs": [
    {
     "name": "stdout",
     "output_type": "stream",
     "text": [
      "True\n"
     ]
    }
   ],
   "source": [
    "expected = [ 'col_none', 'col_white', 'col_white', 'col_blue']\n",
    "print((actual.SecondaryColor == expected).all())"
   ]
  },
  {
   "cell_type": "code",
   "execution_count": 429,
   "metadata": {},
   "outputs": [
    {
     "name": "stdout",
     "output_type": "stream",
     "text": [
      "True\n"
     ]
    }
   ],
   "source": [
    "expected = [ 'pat_none', 'pat_none', 'pat_none', 'pat_tiger']\n",
    "print((actual.SecondaryPattern == expected).all())"
   ]
  },
  {
   "cell_type": "markdown",
   "metadata": {},
   "source": [
    "### Normalize *Breed*\n",
    "\n",
    "New Columns: **PrimaryBreed**, **Secondary Breed**, **PureOrMix**  \n",
    "Purpose: Split combined primary/secondary breed (\"Yorkshire Terrier/Pomeranian\"). Flag pure and mixed breeds. Optionally reduce the number of breed labels by marking the animal as 'exotic' if its breed representation frequency within the sample is lower than some *exotic_frequency_threshold* (def=0).\n"
   ]
  },
  {
   "cell_type": "markdown",
   "metadata": {},
   "source": [
    "#### Explore"
   ]
  },
  {
   "cell_type": "code",
   "execution_count": 430,
   "metadata": {},
   "outputs": [
    {
     "name": "stdout",
     "output_type": "stream",
     "text": [
      "['Abyssinian Mix' 'Affenpinscher Mix' 'Afghan Hound Mix' ...,\n",
      " 'Yorkshire Terrier/Pomeranian' 'Yorkshire Terrier/Rat Terrier'\n",
      " 'Yorkshire Terrier/Toy Poodle']\n"
     ]
    }
   ],
   "source": [
    "vals = train.Breed.values\n",
    "\n",
    "print(np.unique(vals))"
   ]
  },
  {
   "cell_type": "markdown",
   "metadata": {},
   "source": [
    "#### Transformer"
   ]
  },
  {
   "cell_type": "code",
   "execution_count": 431,
   "metadata": {
    "collapsed": true
   },
   "outputs": [],
   "source": [
    "from sklearn.base import BaseEstimator, TransformerMixin\n",
    "from collections import Counter\n",
    "\n",
    "class BreedNormalizer(BaseEstimator, TransformerMixin):\n",
    "    def __init__(self, exotic_frequency_threshold=0):\n",
    "        self.exotic_frequency_threshold = exotic_frequency_threshold\n",
    "        \n",
    "    def trimMix(self, s): return s.replace(\"mix\", \"\").strip().replace(' ', '_')\n",
    "    def primaryBreed(self, s): return self.trimMix(fst(s.split(\"/\")))\n",
    "    def secondaryBreed(self, s): return self.trimMix(snd(s.split(\"/\")))\n",
    "    \n",
    "    def fit(self, X, y=None):\n",
    "        X = append(X, 'PrimaryBreedFreq', list(map(self.primaryBreed, X['Breed'])))\n",
    "        self.breed_freq = X.PrimaryBreedFreq.value_counts(normalize=True)\n",
    "        return self\n",
    "    \n",
    "    def transform(self, X):\n",
    "        def resolvedBreed(b):\n",
    "            if b in \"none\": return 'bre_none'\n",
    "            elif b not in self.breed_freq or self.breed_freq[b] < self.exotic_frequency_threshold: return 'bre_exotic'\n",
    "            else: return \"bre_\"+b\n",
    "        def resolvePrimaryBreed(s): return resolvedBreed(self.primaryBreed(s))\n",
    "        def resolveSecondaryBreed(s): return resolvedBreed(self.secondaryBreed(s))\n",
    "        def pureOrMix(s): return \"mix\" if (\"Mix\" in s or \"/\" in s) else \"pure\"\n",
    "            \n",
    "        X = append(X, 'PrimaryBreed', list(map(resolvePrimaryBreed, X['Breed'])))\n",
    "        X = append(X, 'SecondaryBreed', list(map(resolveSecondaryBreed, X['Breed'])))\n",
    "        X = append(X, 'PureOrMix', list(map(pureOrMix, X['Breed'])))\n",
    "        return X"
   ]
  },
  {
   "cell_type": "markdown",
   "metadata": {},
   "source": [
    "#### Unit Test"
   ]
  },
  {
   "cell_type": "code",
   "execution_count": 432,
   "metadata": {
    "collapsed": true
   },
   "outputs": [],
   "source": [
    "df = pd.DataFrame()\n",
    "df['Breed'] = [ 'Foo', 'Foo Mix/Bar', 'Bar Mix', 'Baz/Foo']\n",
    "\n",
    "sut = BreedNormalizer(0)\n",
    "sut.fit(df)\n",
    "actual = sut.transform(df)"
   ]
  },
  {
   "cell_type": "code",
   "execution_count": 433,
   "metadata": {},
   "outputs": [
    {
     "name": "stdout",
     "output_type": "stream",
     "text": [
      "True\n"
     ]
    }
   ],
   "source": [
    "expected = [ .50, .25, .25 ]\n",
    "print((sut.breed_freq == expected).all())"
   ]
  },
  {
   "cell_type": "code",
   "execution_count": 434,
   "metadata": {},
   "outputs": [
    {
     "name": "stdout",
     "output_type": "stream",
     "text": [
      "True\n"
     ]
    }
   ],
   "source": [
    "expected = [ 'bre_foo', 'bre_foo', 'bre_bar', 'bre_baz' ]\n",
    "print((actual.PrimaryBreed == expected).all())"
   ]
  },
  {
   "cell_type": "code",
   "execution_count": 435,
   "metadata": {},
   "outputs": [
    {
     "name": "stdout",
     "output_type": "stream",
     "text": [
      "True\n"
     ]
    }
   ],
   "source": [
    "expected = [ 'bre_none', 'bre_bar', 'bre_none', 'bre_foo' ]\n",
    "print((actual.SecondaryBreed == expected).all())"
   ]
  },
  {
   "cell_type": "code",
   "execution_count": 436,
   "metadata": {},
   "outputs": [
    {
     "name": "stdout",
     "output_type": "stream",
     "text": [
      "True\n"
     ]
    }
   ],
   "source": [
    "expected = [ 'pure', 'mix', 'mix', 'mix' ]\n",
    "print((actual.PureOrMix == expected).all())"
   ]
  },
  {
   "cell_type": "markdown",
   "metadata": {},
   "source": [
    "## Engineered Pipeline\n",
    "\n",
    "This engineered pipeline uses many of the new engineered features in an effort to reduce the number of OHE features without losing too much information."
   ]
  },
  {
   "cell_type": "code",
   "execution_count": 437,
   "metadata": {
    "collapsed": true
   },
   "outputs": [],
   "source": [
    "from sklearn.pipeline import Pipeline\n",
    "from sklearn.preprocessing import StandardScaler\n",
    "from sklearn.preprocessing import Imputer\n",
    "\n",
    "num_attribs = [\"AgeInDays\"]\n",
    "num_pipeline = Pipeline([\n",
    "        ('normalize_age', AgeNormalizer()), # derive AgeInDays \n",
    "        #('print', Printer()),\n",
    "        ('selector', DataFrameSelector(num_attribs)),\n",
    "        ('imputer', Imputer(strategy=\"median\")),\n",
    "        ('std_scaler', StandardScaler()),\n",
    "    ])\n",
    "\n",
    "cat_attribs = [\n",
    "    \"AnimalType\", \n",
    "    \"Sex\", \n",
    "    \"Status\", \n",
    "    \"PrimaryColor\", \n",
    "    \"PrimaryPattern\", \n",
    "    \"SecondaryColor\", \n",
    "    \"PrimaryBreed\",\n",
    "    \"SecondaryBreed\",\n",
    "    \"PureOrMix\"\n",
    "]\n",
    "\n",
    "cat_pipeline = Pipeline([\n",
    "        ('normalize_sex', SexNormalizer()),\n",
    "        ('normalize_color', ColorNormalizer()),\n",
    "        ('normalize_breed', BreedNormalizer(0.00001)),\n",
    "        #('print', Printer()),\n",
    "        ('selector', DataFrameSelector(cat_attribs)),\n",
    "        ('cat_encoder', CategoricalEncoder(encoding=\"onehot-dense\", handle_unknown=\"ignore\"))\n",
    "    ])\n",
    "\n",
    "from sklearn.pipeline import FeatureUnion\n",
    "\n",
    "eng_pipeline = FeatureUnion(transformer_list=[\n",
    "        (\"num_pipeline\", num_pipeline),\n",
    "        (\"cat_pipeline\", cat_pipeline),\n",
    "    ])"
   ]
  },
  {
   "cell_type": "markdown",
   "metadata": {
    "collapsed": true
   },
   "source": [
    "## Grid Search\n",
    "\n",
    "Create a grid search harness that will be reused throughout the rest of the project. Test against a range of classifiers, including a control classifier (\"LogisticRegression (Ctl)\") that uses the same configuration as our baseline. This control classifier is intended to provide some insight into the general value of the choice of features. All classifiers must support probabilistic prediction (clf.*predict_proba()*) in order to maintain consistent scoring."
   ]
  },
  {
   "cell_type": "code",
   "execution_count": 438,
   "metadata": {
    "collapsed": true
   },
   "outputs": [],
   "source": [
    "import json\n",
    "from time import time\n",
    "from math import sqrt\n",
    "from sklearn.model_selection import GridSearchCV\n",
    "from sklearn.naive_bayes import GaussianNB, BernoulliNB\n",
    "from sklearn.svm import LinearSVC, SVC\n",
    "from sklearn.tree import DecisionTreeClassifier\n",
    "from sklearn.neighbors import KNeighborsClassifier\n",
    "from sklearn.linear_model import LogisticRegression, LogisticRegressionCV, SGDClassifier\n",
    "from sklearn.ensemble import RandomForestClassifier, AdaBoostClassifier, GradientBoostingClassifier\n",
    "from sklearn.neural_network import MLPClassifier\n",
    "from xgboost import XGBClassifier\n",
    "from sklearn.discriminant_analysis import QuadraticDiscriminantAnalysis\n",
    "from scipy import stats "
   ]
  },
  {
   "cell_type": "code",
   "execution_count": 439,
   "metadata": {
    "collapsed": true
   },
   "outputs": [],
   "source": [
    "def printParams(ptype, pkeys, pdict):\n",
    "    param_dump = \"\"\n",
    "    if pkeys: \n",
    "        print(f\"** {ptype} Parameters **\")\n",
    "        for p in sorted(pkeys):\n",
    "            param_dump += f\"{p}: {pdict[p]}\\n\"\n",
    "        print(param_dump)\n",
    "    return param_dump\n",
    "\n",
    "def calculatePValue(clf, X, y):\n",
    "    print(\"Calculating P-value...\")\n",
    "    # Generate 30 training accuracy scores with the best estimator and 30-split CV\n",
    "    cv = ShuffleSplit(n_splits=30, test_size=0.3, random_state=0)\n",
    "    (grid_scores, elapsed) = ftime(lambda: -1 * cross_val_score(clf, X, y, cv=cv, scoring=scoring))\n",
    "    print(f\"Calculated P-value in {elapsed} s\\n\")\n",
    "    # Conduct t-test with baseline logit (control) and best estimator (experiment)\n",
    "    (t_stat, p_value) = stats.ttest_rel(baseline_scores, grid_scores)\n",
    "    return p_value\n",
    "\n",
    "# A Function to execute the grid search and record the results.\n",
    "def ConductGridSearch(phase, group, pipeline, classifiers, params_grid):\n",
    "    \n",
    "    X_train_gs = pipeline.fit_transform(X_train)\n",
    "    X_train_slim_gs = pipeline.transform(X_train_slim)\n",
    "    X_val_gs = pipeline.transform(X_val)\n",
    "    \n",
    "    print (f\"Train (full): {X_train_gs.shape}\")\n",
    "    print (f\"Train (slim): {X_train_slim_gs.shape}\")\n",
    "    print (f\"Validation:   {X_val_gs.shape}\\n\")\n",
    "\n",
    "    for (name, classifier) in classifiers:\n",
    "        # Print classifier and parameters\n",
    "        print(f\"****** START Phase {phase} - {group} - {name}  *****\\n\")\n",
    "        \n",
    "        # Get parameter grid for this classifier\n",
    "        parameters = params_grid[name]\n",
    "        printParams(\"Search\", parameters.keys(), parameters)\n",
    "        \n",
    "        # Execute the grid search on slim training data set\n",
    "        grid_search = GridSearchCV(classifier, parameters, scoring=scoring, cv=3, verbose=1)\n",
    "        grid_search.fit(X_train_slim_gs, y_train_slim)\n",
    "        clf = grid_search.best_estimator_\n",
    "        \n",
    "        # Collect the best parameters found by the grid search\n",
    "        best_params = printParams(\"Best\", parameters.keys(), clf.get_params())\n",
    "        \n",
    "        # Time Fit on full data set\n",
    "        print(\"Validating best estimator...\")\n",
    "        (_, train_time) = ftime(lambda: clf.fit(X_train_slim_gs, y_train_slim))\n",
    "        \n",
    "        # Time Predict\n",
    "        train_preds = clf.predict_proba(X_train_slim_gs)\n",
    "        (val_preds, val_time) = ftime(lambda: clf.predict_proba(X_val_gs))\n",
    "        \n",
    "        # Score\n",
    "        train_score = round(oheLogLoss(y_train_slim, train_preds),6)\n",
    "        val_score = round(oheLogLoss(y_val, val_preds),6)\n",
    "        p_value = round(calculatePValue(clf, X_train_slim_gs, y_train_slim),6)\n",
    "        \n",
    "        # Record the results\n",
    "        record(results, phase, group, name, train_score, val_score, p_value, train_time, val_time, best_params)\n",
    "        print(\"** Results **\")\n",
    "        print(f\"Best train log-loss: {train_score}\")\n",
    "        print(f\"Best validation log-loss: {val_score}\")\n",
    "        print(f\"P-value: {p_value}\")\n",
    "        \n",
    "        print(f\"\\n****** Finish Phase {phase} - {group} - {name}  *****\\n\\n\")\n"
   ]
  },
  {
   "cell_type": "code",
   "execution_count": 440,
   "metadata": {
    "collapsed": true
   },
   "outputs": [],
   "source": [
    "# Create a list of classifiers for our grid search experiment\n",
    "classifiers = [\n",
    "    ('LogisticRegression (Ctl)', LogisticRegressionCV(solver=\"liblinear\", multi_class=\"ovr\", scoring=scoring, random_state=42)),\n",
    "    ('LogisticRegression', LogisticRegression(random_state=42)),\n",
    "    ('Stochastic GD', SGDClassifier(random_state=42, n_jobs=-1))\n",
    "]\n",
    "\n",
    "# Arrange grid search parameters for each classifier\n",
    "params_grid = {\n",
    "    'LogisticRegression (Ctl)': {},\n",
    "    'LogisticRegression': {\n",
    "        'solver': ('lbfgs', 'newton-cg', 'sag'),\n",
    "        'multi_class': ('ovr', 'multinomial'),\n",
    "        'tol': (1, 0.1, 0.01, 0.001, 0.0001), \n",
    "    },\n",
    "    'Stochastic GD': {\n",
    "        'loss': ('log', 'modified_huber'),\n",
    "        'penalty': ('l1', 'l2', 'elasticnet'),\n",
    "        'tol': (1, 0.1, 0.01, 0.001, 0.0001), \n",
    "        'alpha': (1, 0.1, 0.01, 0.001, 0.0001), \n",
    "    }\n",
    "}"
   ]
  },
  {
   "cell_type": "markdown",
   "metadata": {},
   "source": [
    "### Baseline Features"
   ]
  },
  {
   "cell_type": "code",
   "execution_count": 441,
   "metadata": {},
   "outputs": [
    {
     "name": "stdout",
     "output_type": "stream",
     "text": [
      "Train (full): (21383, 1629)\n",
      "Train (slim): (5000, 1629)\n",
      "Validation:   (5346, 1629)\n",
      "\n",
      "****** START Phase 2 - Baseline - LogisticRegression (Ctl)  *****\n",
      "\n",
      "Fitting 3 folds for each of 1 candidates, totalling 3 fits\n"
     ]
    },
    {
     "name": "stderr",
     "output_type": "stream",
     "text": [
      "[Parallel(n_jobs=1)]: Done   3 out of   3 | elapsed:    6.6s finished\n"
     ]
    },
    {
     "name": "stdout",
     "output_type": "stream",
     "text": [
      "Validating best estimator...\n",
      "Calculating P-value...\n",
      "Calculated P-value in 64.93 s\n",
      "\n",
      "** Results **\n",
      "Best train log-loss: 0.838004\n",
      "Best validation log-loss: 0.907733\n",
      "P-value: nan\n",
      "\n",
      "****** Finish Phase 2 - Baseline - LogisticRegression (Ctl)  *****\n",
      "\n",
      "\n",
      "****** START Phase 2 - Baseline - LogisticRegression  *****\n",
      "\n",
      "** Search Parameters **\n",
      "multi_class: ('ovr', 'multinomial')\n",
      "solver: ('lbfgs', 'newton-cg', 'sag')\n",
      "tol: (1, 0.1, 0.01, 0.001, 0.0001)\n",
      "\n",
      "Fitting 3 folds for each of 30 candidates, totalling 90 fits\n"
     ]
    },
    {
     "name": "stderr",
     "output_type": "stream",
     "text": [
      "[Parallel(n_jobs=1)]: Done  90 out of  90 | elapsed:  4.1min finished\n"
     ]
    },
    {
     "name": "stdout",
     "output_type": "stream",
     "text": [
      "** Best Parameters **\n",
      "multi_class: ovr\n",
      "solver: sag\n",
      "tol: 0.01\n",
      "\n",
      "Validating best estimator...\n",
      "Calculating P-value...\n",
      "Calculated P-value in 106.69 s\n",
      "\n",
      "** Results **\n",
      "Best train log-loss: 0.795478\n",
      "Best validation log-loss: 0.913073\n",
      "P-value: 0.0\n",
      "\n",
      "****** Finish Phase 2 - Baseline - LogisticRegression  *****\n",
      "\n",
      "\n",
      "****** START Phase 2 - Baseline - Stochastic GD  *****\n",
      "\n",
      "** Search Parameters **\n",
      "alpha: (1, 0.1, 0.01, 0.001, 0.0001)\n",
      "loss: ('log', 'modified_huber')\n",
      "penalty: ('l1', 'l2', 'elasticnet')\n",
      "tol: (1, 0.1, 0.01, 0.001, 0.0001)\n",
      "\n",
      "Fitting 3 folds for each of 150 candidates, totalling 450 fits\n"
     ]
    },
    {
     "name": "stderr",
     "output_type": "stream",
     "text": [
      "[Parallel(n_jobs=1)]: Done 450 out of 450 | elapsed:  2.2min finished\n"
     ]
    },
    {
     "name": "stdout",
     "output_type": "stream",
     "text": [
      "** Best Parameters **\n",
      "alpha: 0.001\n",
      "loss: log\n",
      "penalty: elasticnet\n",
      "tol: 0.0001\n",
      "\n",
      "Validating best estimator...\n",
      "Calculating P-value...\n",
      "Calculated P-value in 12.05 s\n",
      "\n",
      "** Results **\n",
      "Best train log-loss: 0.87967\n",
      "Best validation log-loss: 0.911208\n",
      "P-value: 0.000199\n",
      "\n",
      "****** Finish Phase 2 - Baseline - Stochastic GD  *****\n",
      "\n",
      "\n"
     ]
    }
   ],
   "source": [
    "if __name__ == \"__main__\":\n",
    "    ConductGridSearch(2, \"Baseline\", base_cat_pipeline, classifiers, params_grid)"
   ]
  },
  {
   "cell_type": "code",
   "execution_count": 442,
   "metadata": {},
   "outputs": [
    {
     "data": {
      "text/html": [
       "<table border=\"1\" class=\"dataframe\">\n",
       "  <thead>\n",
       "    <tr style=\"text-align: right;\">\n",
       "      <th></th>\n",
       "      <th>Phase</th>\n",
       "      <th>Pipeline</th>\n",
       "      <th>Classifier</th>\n",
       "      <th>Train Log Loss</th>\n",
       "      <th>Validation Log Loss</th>\n",
       "      <th>p-value</th>\n",
       "      <th>Train Time (s)</th>\n",
       "      <th>Test Time (s)</th>\n",
       "      <th>Experiment description</th>\n",
       "    </tr>\n",
       "  </thead>\n",
       "  <tbody>\n",
       "    <tr>\n",
       "      <th>0</th>\n",
       "      <td>1</td>\n",
       "      <td>Baseline</td>\n",
       "      <td>LogisticRegression (Ctl)</td>\n",
       "      <td>0.838004</td>\n",
       "      <td>0.907733</td>\n",
       "      <td>0</td>\n",
       "      <td>3.31</td>\n",
       "      <td>0.05</td>\n",
       "      <td>multi_class: ovr<br>solver: liblinear</td>\n",
       "    </tr>\n",
       "    <tr>\n",
       "      <th>1</th>\n",
       "      <td>2</td>\n",
       "      <td>Baseline</td>\n",
       "      <td>LogisticRegression (Ctl)</td>\n",
       "      <td>0.838004</td>\n",
       "      <td>0.907733</td>\n",
       "      <td>NaN</td>\n",
       "      <td>2.95</td>\n",
       "      <td>0.03</td>\n",
       "      <td></td>\n",
       "    </tr>\n",
       "    <tr>\n",
       "      <th>2</th>\n",
       "      <td>2</td>\n",
       "      <td>Baseline</td>\n",
       "      <td>LogisticRegression</td>\n",
       "      <td>0.795478</td>\n",
       "      <td>0.913073</td>\n",
       "      <td>0</td>\n",
       "      <td>5.19</td>\n",
       "      <td>0.03</td>\n",
       "      <td>multi_class: ovr<br>solver: sag<br>tol: 0.01<br></td>\n",
       "    </tr>\n",
       "    <tr>\n",
       "      <th>3</th>\n",
       "      <td>2</td>\n",
       "      <td>Baseline</td>\n",
       "      <td>Stochastic GD</td>\n",
       "      <td>0.879670</td>\n",
       "      <td>0.911208</td>\n",
       "      <td>0.000199</td>\n",
       "      <td>0.53</td>\n",
       "      <td>0.02</td>\n",
       "      <td>alpha: 0.001<br>loss: log<br>penalty: elasticnet<br>...</td>\n",
       "    </tr>\n",
       "  </tbody>\n",
       "</table>"
      ],
      "text/plain": [
       "<IPython.core.display.HTML object>"
      ]
     },
     "metadata": {},
     "output_type": "display_data"
    }
   ],
   "source": [
    "prettyPrintDf(results)"
   ]
  },
  {
   "cell_type": "markdown",
   "metadata": {},
   "source": [
    "### Engineered Features"
   ]
  },
  {
   "cell_type": "code",
   "execution_count": 443,
   "metadata": {},
   "outputs": [
    {
     "name": "stdout",
     "output_type": "stream",
     "text": [
      "Train (full): (21383, 390)\n",
      "Train (slim): (5000, 390)\n",
      "Validation:   (5346, 390)\n",
      "\n",
      "****** START Phase 2 - Engineered - LogisticRegression (Ctl)  *****\n",
      "\n",
      "Fitting 3 folds for each of 1 candidates, totalling 3 fits\n"
     ]
    },
    {
     "name": "stderr",
     "output_type": "stream",
     "text": [
      "[Parallel(n_jobs=1)]: Done   3 out of   3 | elapsed:    4.7s finished\n"
     ]
    },
    {
     "name": "stdout",
     "output_type": "stream",
     "text": [
      "Validating best estimator...\n",
      "Calculating P-value...\n",
      "Calculated P-value in 50.51 s\n",
      "\n",
      "** Results **\n",
      "Best train log-loss: 0.955817\n",
      "Best validation log-loss: 0.978037\n",
      "P-value: 0.0\n",
      "\n",
      "****** Finish Phase 2 - Engineered - LogisticRegression (Ctl)  *****\n",
      "\n",
      "\n",
      "****** START Phase 2 - Engineered - LogisticRegression  *****\n",
      "\n",
      "** Search Parameters **\n",
      "multi_class: ('ovr', 'multinomial')\n",
      "solver: ('lbfgs', 'newton-cg', 'sag')\n",
      "tol: (1, 0.1, 0.01, 0.001, 0.0001)\n",
      "\n",
      "Fitting 3 folds for each of 30 candidates, totalling 90 fits\n"
     ]
    },
    {
     "name": "stderr",
     "output_type": "stream",
     "text": [
      "/anaconda3/lib/python3.6/site-packages/sklearn/linear_model/sag.py:326: ConvergenceWarning: The max_iter was reached which means the coef_ did not converge\n",
      "  \"the coef_ did not converge\", ConvergenceWarning)\n",
      "/anaconda3/lib/python3.6/site-packages/sklearn/linear_model/sag.py:326: ConvergenceWarning: The max_iter was reached which means the coef_ did not converge\n",
      "  \"the coef_ did not converge\", ConvergenceWarning)\n",
      "/anaconda3/lib/python3.6/site-packages/sklearn/linear_model/sag.py:326: ConvergenceWarning: The max_iter was reached which means the coef_ did not converge\n",
      "  \"the coef_ did not converge\", ConvergenceWarning)\n",
      "/anaconda3/lib/python3.6/site-packages/sklearn/linear_model/sag.py:326: ConvergenceWarning: The max_iter was reached which means the coef_ did not converge\n",
      "  \"the coef_ did not converge\", ConvergenceWarning)\n",
      "/anaconda3/lib/python3.6/site-packages/sklearn/linear_model/sag.py:326: ConvergenceWarning: The max_iter was reached which means the coef_ did not converge\n",
      "  \"the coef_ did not converge\", ConvergenceWarning)\n",
      "/anaconda3/lib/python3.6/site-packages/sklearn/linear_model/sag.py:326: ConvergenceWarning: The max_iter was reached which means the coef_ did not converge\n",
      "  \"the coef_ did not converge\", ConvergenceWarning)\n",
      "/anaconda3/lib/python3.6/site-packages/sklearn/linear_model/sag.py:326: ConvergenceWarning: The max_iter was reached which means the coef_ did not converge\n",
      "  \"the coef_ did not converge\", ConvergenceWarning)\n",
      "/anaconda3/lib/python3.6/site-packages/sklearn/linear_model/sag.py:326: ConvergenceWarning: The max_iter was reached which means the coef_ did not converge\n",
      "  \"the coef_ did not converge\", ConvergenceWarning)\n",
      "[Parallel(n_jobs=1)]: Done  90 out of  90 | elapsed:  1.5min finished\n"
     ]
    },
    {
     "name": "stdout",
     "output_type": "stream",
     "text": [
      "** Best Parameters **\n",
      "multi_class: ovr\n",
      "solver: sag\n",
      "tol: 0.1\n",
      "\n",
      "Validating best estimator...\n",
      "Calculating P-value...\n",
      "Calculated P-value in 10.61 s\n",
      "\n",
      "** Results **\n",
      "Best train log-loss: 0.935025\n",
      "Best validation log-loss: 0.987704\n",
      "P-value: 0.0\n",
      "\n",
      "****** Finish Phase 2 - Engineered - LogisticRegression  *****\n",
      "\n",
      "\n",
      "****** START Phase 2 - Engineered - Stochastic GD  *****\n",
      "\n",
      "** Search Parameters **\n",
      "alpha: (1, 0.1, 0.01, 0.001, 0.0001)\n",
      "loss: ('log', 'modified_huber')\n",
      "penalty: ('l1', 'l2', 'elasticnet')\n",
      "tol: (1, 0.1, 0.01, 0.001, 0.0001)\n",
      "\n",
      "Fitting 3 folds for each of 150 candidates, totalling 450 fits\n"
     ]
    },
    {
     "name": "stderr",
     "output_type": "stream",
     "text": [
      "[Parallel(n_jobs=1)]: Done 450 out of 450 | elapsed:  1.1min finished\n"
     ]
    },
    {
     "name": "stdout",
     "output_type": "stream",
     "text": [
      "** Best Parameters **\n",
      "alpha: 0.001\n",
      "loss: log\n",
      "penalty: l1\n",
      "tol: 0.001\n",
      "\n",
      "Validating best estimator...\n",
      "Calculating P-value...\n",
      "Calculated P-value in 3.53 s\n",
      "\n",
      "** Results **\n",
      "Best train log-loss: 0.983428\n",
      "Best validation log-loss: 0.979151\n",
      "P-value: 0.0\n",
      "\n",
      "****** Finish Phase 2 - Engineered - Stochastic GD  *****\n",
      "\n",
      "\n"
     ]
    }
   ],
   "source": [
    "if __name__ == \"__main__\":\n",
    "    ConductGridSearch(2, \"Engineered\", eng_pipeline, classifiers, params_grid)"
   ]
  },
  {
   "cell_type": "code",
   "execution_count": 444,
   "metadata": {},
   "outputs": [
    {
     "data": {
      "text/html": [
       "<table border=\"1\" class=\"dataframe\">\n",
       "  <thead>\n",
       "    <tr style=\"text-align: right;\">\n",
       "      <th></th>\n",
       "      <th>Phase</th>\n",
       "      <th>Pipeline</th>\n",
       "      <th>Classifier</th>\n",
       "      <th>Train Log Loss</th>\n",
       "      <th>Validation Log Loss</th>\n",
       "      <th>p-value</th>\n",
       "      <th>Train Time (s)</th>\n",
       "      <th>Test Time (s)</th>\n",
       "      <th>Experiment description</th>\n",
       "    </tr>\n",
       "  </thead>\n",
       "  <tbody>\n",
       "    <tr>\n",
       "      <th>0</th>\n",
       "      <td>1</td>\n",
       "      <td>Baseline</td>\n",
       "      <td>LogisticRegression (Ctl)</td>\n",
       "      <td>0.838004</td>\n",
       "      <td>0.907733</td>\n",
       "      <td>0</td>\n",
       "      <td>3.31</td>\n",
       "      <td>0.05</td>\n",
       "      <td>multi_class: ovr<br>solver: liblinear</td>\n",
       "    </tr>\n",
       "    <tr>\n",
       "      <th>1</th>\n",
       "      <td>2</td>\n",
       "      <td>Baseline</td>\n",
       "      <td>LogisticRegression (Ctl)</td>\n",
       "      <td>0.838004</td>\n",
       "      <td>0.907733</td>\n",
       "      <td>NaN</td>\n",
       "      <td>2.95</td>\n",
       "      <td>0.03</td>\n",
       "      <td></td>\n",
       "    </tr>\n",
       "    <tr>\n",
       "      <th>2</th>\n",
       "      <td>2</td>\n",
       "      <td>Baseline</td>\n",
       "      <td>LogisticRegression</td>\n",
       "      <td>0.795478</td>\n",
       "      <td>0.913073</td>\n",
       "      <td>0</td>\n",
       "      <td>5.19</td>\n",
       "      <td>0.03</td>\n",
       "      <td>multi_class: ovr<br>solver: sag<br>tol: 0.01<br></td>\n",
       "    </tr>\n",
       "    <tr>\n",
       "      <th>3</th>\n",
       "      <td>2</td>\n",
       "      <td>Baseline</td>\n",
       "      <td>Stochastic GD</td>\n",
       "      <td>0.879670</td>\n",
       "      <td>0.911208</td>\n",
       "      <td>0.000199</td>\n",
       "      <td>0.53</td>\n",
       "      <td>0.02</td>\n",
       "      <td>alpha: 0.001<br>loss: log<br>penalty: elasticnet<br>...</td>\n",
       "    </tr>\n",
       "    <tr>\n",
       "      <th>4</th>\n",
       "      <td>2</td>\n",
       "      <td>Engineered</td>\n",
       "      <td>LogisticRegression (Ctl)</td>\n",
       "      <td>0.955817</td>\n",
       "      <td>0.978037</td>\n",
       "      <td>0</td>\n",
       "      <td>2.58</td>\n",
       "      <td>0.01</td>\n",
       "      <td></td>\n",
       "    </tr>\n",
       "    <tr>\n",
       "      <th>5</th>\n",
       "      <td>2</td>\n",
       "      <td>Engineered</td>\n",
       "      <td>LogisticRegression</td>\n",
       "      <td>0.935025</td>\n",
       "      <td>0.987704</td>\n",
       "      <td>0</td>\n",
       "      <td>0.51</td>\n",
       "      <td>0.01</td>\n",
       "      <td>multi_class: ovr<br>solver: sag<br>tol: 0.1<br></td>\n",
       "    </tr>\n",
       "    <tr>\n",
       "      <th>6</th>\n",
       "      <td>2</td>\n",
       "      <td>Engineered</td>\n",
       "      <td>Stochastic GD</td>\n",
       "      <td>0.983428</td>\n",
       "      <td>0.979151</td>\n",
       "      <td>0</td>\n",
       "      <td>0.11</td>\n",
       "      <td>0.01</td>\n",
       "      <td>alpha: 0.001<br>loss: log<br>penalty: l1<br>tol: 0.0...</td>\n",
       "    </tr>\n",
       "  </tbody>\n",
       "</table>"
      ],
      "text/plain": [
       "<IPython.core.display.HTML object>"
      ]
     },
     "metadata": {},
     "output_type": "display_data"
    }
   ],
   "source": [
    "prettyPrintDf(results)"
   ]
  },
  {
   "cell_type": "markdown",
   "metadata": {
    "collapsed": true
   },
   "source": [
    "## Report"
   ]
  },
  {
   "cell_type": "markdown",
   "metadata": {},
   "source": [
    "Phase 2 produce no meaningful improvements in prediction accuracy. Two rounds of grid search testing were conducted: first against the raw data/features, and then against the first round of engineered features. The raw features garnered a lower log-loss than the engineered features for all classifiers, indicating that our first round feature engineering was ineffective. One bright spot is that feature engineering has reduced the delta between training and validation log-loss, indicating that feature engineering has reduced the models' tendency towards overfitting.\n",
    "\n",
    "Phase 3 will focus on more feature engineering. I'm going to explore binning dog breeds into the classic groups (i.e. herding, sporting, hound) to see if that provides any measurable improvement. It is becoming clear to me that in many cases the data simply doesn't support he situational circumstances that lead to an animals eventual outcome: one can't infer that a cat is sick and dying because it is a male with brown fur. No amount of feature engineering can improve predictions if the underlying data simply isn't there."
   ]
  },
  {
   "cell_type": "markdown",
   "metadata": {},
   "source": [
    "# Phase 3"
   ]
  },
  {
   "cell_type": "markdown",
   "metadata": {},
   "source": [
    "## Revisions to Phase 2"
   ]
  },
  {
   "cell_type": "markdown",
   "metadata": {},
   "source": [
    "* On reviewing [Feature Importance](#Feature-Importance) I discovered a few issues in my engineering pipeline:  \n",
    "  +  The *SexNormalizer* was failing to process the *Female* and *Spayed/Neutered* cases as expected: all animals were being encoded as *Fixed Males*. I resolved the error to an string comparison bug.\n",
    "  +  The *ColorNormalizer* and *BreedNormalizer* were both using *None* for cases where a value wasn't present. I thought this might cause some confusion for the one-hot encoder, so I prefixed each color, pattern, and breed label with *col_*, *pat_*, and *bre_* respectively.   \n",
    "  \n",
    "\n",
    "* I was planning to do another round of feature engineering but instead opted to explore some ensemble classifiers, including the 'Bagged' SVC, RandomForest, and XGBoost. I kept the Logit and Stochastic GD classifiers in Phase 2.\n",
    "\n",
    "* In the interest of time I switched to a grid search with a 5000-count random sample of the whole. This didn't seem to cause a noticeable difference in the end result."
   ]
  },
  {
   "cell_type": "markdown",
   "metadata": {},
   "source": [
    "## Ensemble Grid Search"
   ]
  },
  {
   "cell_type": "markdown",
   "metadata": {},
   "source": [
    "Grid search several powerful ensemble classifiers against the baseline and engineered features."
   ]
  },
  {
   "cell_type": "code",
   "execution_count": 460,
   "metadata": {
    "collapsed": true
   },
   "outputs": [],
   "source": [
    "from sklearn.ensemble import BaggingClassifier\n",
    "\n",
    "# Create a list of classifiers for our grid search experiment\n",
    "classifiers = [\n",
    "    ('Bagging SVM', BaggingClassifier(SVC(probability=True, decision_function_shape=\"ovo\", random_state=42), n_estimators=8, random_state=42, n_jobs=-1)),\n",
    "    ('Random Forest', RandomForestClassifier(random_state=42, n_jobs=-1)),        \n",
    "    ('XGBoost', XGBClassifier(objective=\"multi:softprob\", eval_metric=\"logloss\", random_state=42, n_jobs=-1))\n",
    "]\n",
    "\n",
    "# Arrange grid search parameters for each classifier\n",
    "params_grid = {\n",
    "    'Bagging SVM': {\n",
    "        'base_estimator__kernel': ['rbf', 'poly', 'sigmoid'],\n",
    "        'base_estimator__tol': (1, 0.1, 0.01, 0.001, 0.0001),\n",
    "        'base_estimator__C': [1, 10, 100],\n",
    "    },\n",
    "    'Random Forest':  {\n",
    "        'criterion': ['gini', 'entropy'],\n",
    "        'max_depth': [10, 20],\n",
    "        'max_features': (\"sqrt\", None),\n",
    "        'min_samples_split': [2, 5, 10],\n",
    "        'min_samples_leaf': [1, 3, 5],\n",
    "        'n_estimators': (50, 75),        \n",
    "    },\n",
    "    'XGBoost': {\n",
    "        'max_depth': [3, 6, 10],\n",
    "        'learning_rate': [0.3, 0.5],\n",
    "        'reg_lambda': (1, 10, 100), \n",
    "        'reg_alpha': (1, 0.1, 0.01), \n",
    "        'subsample': [0.5, 1],\n",
    "        'gamma': [1, 10]\n",
    "    }   \n",
    "}"
   ]
  },
  {
   "cell_type": "markdown",
   "metadata": {},
   "source": [
    "### Baseline Features"
   ]
  },
  {
   "cell_type": "code",
   "execution_count": 446,
   "metadata": {},
   "outputs": [
    {
     "name": "stdout",
     "output_type": "stream",
     "text": [
      "Train (full): (21383, 1629)\n",
      "Train (slim): (5000, 1629)\n",
      "Validation:   (5346, 1629)\n",
      "\n",
      "****** START Phase 3 - Baseline - Bagging SVM  *****\n",
      "\n",
      "** Search Parameters **\n",
      "base_estimator__C: [1, 10, 100]\n",
      "base_estimator__kernel: ['rbf', 'poly', 'sigmoid']\n",
      "base_estimator__tol: (1, 0.1, 0.01, 0.001, 0.0001)\n",
      "\n",
      "Fitting 3 folds for each of 45 candidates, totalling 135 fits\n"
     ]
    },
    {
     "name": "stderr",
     "output_type": "stream",
     "text": [
      "[Parallel(n_jobs=1)]: Done 135 out of 135 | elapsed: 313.7min finished\n"
     ]
    },
    {
     "name": "stdout",
     "output_type": "stream",
     "text": [
      "** Best Parameters **\n",
      "base_estimator__C: 100\n",
      "base_estimator__kernel: rbf\n",
      "base_estimator__tol: 1\n",
      "\n",
      "Validating best estimator...\n",
      "Calculating P-value...\n",
      "Calculated P-value in 2621.21 s\n",
      "\n",
      "** Results **\n",
      "Best train log-loss: 0.88771\n",
      "Best validation log-loss: 0.934716\n",
      "P-value: 0.0\n",
      "\n",
      "****** Finish Phase 3 - Baseline - Bagging SVM  *****\n",
      "\n",
      "\n",
      "****** START Phase 3 - Baseline - Random Forest  *****\n",
      "\n",
      "** Search Parameters **\n",
      "criterion: ['gini', 'entropy']\n",
      "max_depth: [10, 20]\n",
      "max_features: ('sqrt', None)\n",
      "min_samples_leaf: [1, 3, 5]\n",
      "min_samples_split: [2, 5, 10]\n",
      "n_estimators: (50, 75)\n",
      "\n",
      "Fitting 3 folds for each of 144 candidates, totalling 432 fits\n"
     ]
    },
    {
     "name": "stderr",
     "output_type": "stream",
     "text": [
      "[Parallel(n_jobs=1)]: Done 432 out of 432 | elapsed: 10.9min finished\n"
     ]
    },
    {
     "name": "stdout",
     "output_type": "stream",
     "text": [
      "** Best Parameters **\n",
      "criterion: gini\n",
      "max_depth: 10\n",
      "max_features: None\n",
      "min_samples_leaf: 1\n",
      "min_samples_split: 10\n",
      "n_estimators: 75\n",
      "\n",
      "Validating best estimator...\n",
      "Calculating P-value...\n",
      "Calculated P-value in 87.28 s\n",
      "\n",
      "** Results **\n",
      "Best train log-loss: 0.80002\n",
      "Best validation log-loss: 0.94094\n",
      "P-value: 0.0\n",
      "\n",
      "****** Finish Phase 3 - Baseline - Random Forest  *****\n",
      "\n",
      "\n",
      "****** START Phase 3 - Baseline - XGBoost  *****\n",
      "\n",
      "** Search Parameters **\n",
      "gamma: [1, 10]\n",
      "learning_rate: [0.3, 0.5]\n",
      "max_depth: [3, 6, 10]\n",
      "reg_alpha: (1, 0.1, 0.01)\n",
      "reg_lambda: (1, 10, 100)\n",
      "subsample: [0.5, 1]\n",
      "\n",
      "Fitting 3 folds for each of 216 candidates, totalling 648 fits\n"
     ]
    },
    {
     "name": "stderr",
     "output_type": "stream",
     "text": [
      "[Parallel(n_jobs=1)]: Done 648 out of 648 | elapsed: 267.9min finished\n"
     ]
    },
    {
     "name": "stdout",
     "output_type": "stream",
     "text": [
      "** Best Parameters **\n",
      "gamma: 1\n",
      "learning_rate: 0.5\n",
      "max_depth: 10\n",
      "reg_alpha: 1\n",
      "reg_lambda: 10\n",
      "subsample: 0.5\n",
      "\n",
      "Validating best estimator...\n",
      "Calculating P-value...\n",
      "Calculated P-value in 1282.31 s\n",
      "\n",
      "** Results **\n",
      "Best train log-loss: 0.832178\n",
      "Best validation log-loss: 0.901448\n",
      "P-value: 8e-06\n",
      "\n",
      "****** Finish Phase 3 - Baseline - XGBoost  *****\n",
      "\n",
      "\n"
     ]
    }
   ],
   "source": [
    "if __name__ == \"__main__\":\n",
    "    ConductGridSearch(3, \"Baseline\", base_cat_pipeline, classifiers, params_grid)"
   ]
  },
  {
   "cell_type": "code",
   "execution_count": 447,
   "metadata": {},
   "outputs": [
    {
     "data": {
      "text/html": [
       "<table border=\"1\" class=\"dataframe\">\n",
       "  <thead>\n",
       "    <tr style=\"text-align: right;\">\n",
       "      <th></th>\n",
       "      <th>Phase</th>\n",
       "      <th>Pipeline</th>\n",
       "      <th>Classifier</th>\n",
       "      <th>Train Log Loss</th>\n",
       "      <th>Validation Log Loss</th>\n",
       "      <th>p-value</th>\n",
       "      <th>Train Time (s)</th>\n",
       "      <th>Test Time (s)</th>\n",
       "      <th>Experiment description</th>\n",
       "    </tr>\n",
       "  </thead>\n",
       "  <tbody>\n",
       "    <tr>\n",
       "      <th>0</th>\n",
       "      <td>1</td>\n",
       "      <td>Baseline</td>\n",
       "      <td>LogisticRegression (Ctl)</td>\n",
       "      <td>0.838004</td>\n",
       "      <td>0.907733</td>\n",
       "      <td>0</td>\n",
       "      <td>3.31</td>\n",
       "      <td>0.05</td>\n",
       "      <td>multi_class: ovr<br>solver: liblinear</td>\n",
       "    </tr>\n",
       "    <tr>\n",
       "      <th>1</th>\n",
       "      <td>2</td>\n",
       "      <td>Baseline</td>\n",
       "      <td>LogisticRegression (Ctl)</td>\n",
       "      <td>0.838004</td>\n",
       "      <td>0.907733</td>\n",
       "      <td>NaN</td>\n",
       "      <td>2.95</td>\n",
       "      <td>0.03</td>\n",
       "      <td></td>\n",
       "    </tr>\n",
       "    <tr>\n",
       "      <th>2</th>\n",
       "      <td>2</td>\n",
       "      <td>Baseline</td>\n",
       "      <td>LogisticRegression</td>\n",
       "      <td>0.795478</td>\n",
       "      <td>0.913073</td>\n",
       "      <td>0</td>\n",
       "      <td>5.19</td>\n",
       "      <td>0.03</td>\n",
       "      <td>multi_class: ovr<br>solver: sag<br>tol: 0.01<br></td>\n",
       "    </tr>\n",
       "    <tr>\n",
       "      <th>3</th>\n",
       "      <td>2</td>\n",
       "      <td>Baseline</td>\n",
       "      <td>Stochastic GD</td>\n",
       "      <td>0.879670</td>\n",
       "      <td>0.911208</td>\n",
       "      <td>0.000199</td>\n",
       "      <td>0.53</td>\n",
       "      <td>0.02</td>\n",
       "      <td>alpha: 0.001<br>loss: log<br>penalty: elasticnet<br>...</td>\n",
       "    </tr>\n",
       "    <tr>\n",
       "      <th>4</th>\n",
       "      <td>2</td>\n",
       "      <td>Engineered</td>\n",
       "      <td>LogisticRegression (Ctl)</td>\n",
       "      <td>0.955817</td>\n",
       "      <td>0.978037</td>\n",
       "      <td>0</td>\n",
       "      <td>2.58</td>\n",
       "      <td>0.01</td>\n",
       "      <td></td>\n",
       "    </tr>\n",
       "    <tr>\n",
       "      <th>5</th>\n",
       "      <td>2</td>\n",
       "      <td>Engineered</td>\n",
       "      <td>LogisticRegression</td>\n",
       "      <td>0.935025</td>\n",
       "      <td>0.987704</td>\n",
       "      <td>0</td>\n",
       "      <td>0.51</td>\n",
       "      <td>0.01</td>\n",
       "      <td>multi_class: ovr<br>solver: sag<br>tol: 0.1<br></td>\n",
       "    </tr>\n",
       "    <tr>\n",
       "      <th>6</th>\n",
       "      <td>2</td>\n",
       "      <td>Engineered</td>\n",
       "      <td>Stochastic GD</td>\n",
       "      <td>0.983428</td>\n",
       "      <td>0.979151</td>\n",
       "      <td>0</td>\n",
       "      <td>0.11</td>\n",
       "      <td>0.01</td>\n",
       "      <td>alpha: 0.001<br>loss: log<br>penalty: l1<br>tol: 0.0...</td>\n",
       "    </tr>\n",
       "    <tr>\n",
       "      <th>7</th>\n",
       "      <td>3</td>\n",
       "      <td>Baseline</td>\n",
       "      <td>Bagging SVM</td>\n",
       "      <td>0.887710</td>\n",
       "      <td>0.934716</td>\n",
       "      <td>0</td>\n",
       "      <td>156.50</td>\n",
       "      <td>47.65</td>\n",
       "      <td>base_estimator__C: 100<br>base_estimator__kernel...</td>\n",
       "    </tr>\n",
       "    <tr>\n",
       "      <th>8</th>\n",
       "      <td>3</td>\n",
       "      <td>Baseline</td>\n",
       "      <td>Random Forest</td>\n",
       "      <td>0.800020</td>\n",
       "      <td>0.940940</td>\n",
       "      <td>0</td>\n",
       "      <td>5.35</td>\n",
       "      <td>0.12</td>\n",
       "      <td>criterion: gini<br>max_depth: 10<br>max_features: ...</td>\n",
       "    </tr>\n",
       "    <tr>\n",
       "      <th>9</th>\n",
       "      <td>3</td>\n",
       "      <td>Baseline</td>\n",
       "      <td>XGBoost</td>\n",
       "      <td>0.832178</td>\n",
       "      <td>0.901448</td>\n",
       "      <td>8e-06</td>\n",
       "      <td>69.77</td>\n",
       "      <td>0.10</td>\n",
       "      <td>gamma: 1<br>learning_rate: 0.5<br>max_depth: 10<br>r...</td>\n",
       "    </tr>\n",
       "  </tbody>\n",
       "</table>"
      ],
      "text/plain": [
       "<IPython.core.display.HTML object>"
      ]
     },
     "metadata": {},
     "output_type": "display_data"
    }
   ],
   "source": [
    "prettyPrintDf(results)"
   ]
  },
  {
   "cell_type": "markdown",
   "metadata": {},
   "source": [
    "### Engineered Features"
   ]
  },
  {
   "cell_type": "code",
   "execution_count": 448,
   "metadata": {},
   "outputs": [
    {
     "name": "stdout",
     "output_type": "stream",
     "text": [
      "Train (full): (21383, 390)\n",
      "Train (slim): (5000, 390)\n",
      "Validation:   (5346, 390)\n",
      "\n",
      "****** START Phase 3 - Engineered - Bagging SVM  *****\n",
      "\n",
      "** Search Parameters **\n",
      "base_estimator__C: [1, 10, 100]\n",
      "base_estimator__kernel: ['rbf', 'poly', 'sigmoid']\n",
      "base_estimator__tol: (1, 0.1, 0.01, 0.001, 0.0001)\n",
      "\n",
      "Fitting 3 folds for each of 45 candidates, totalling 135 fits\n"
     ]
    },
    {
     "name": "stderr",
     "output_type": "stream",
     "text": [
      "[Parallel(n_jobs=1)]: Done 135 out of 135 | elapsed: 81.2min finished\n"
     ]
    },
    {
     "name": "stdout",
     "output_type": "stream",
     "text": [
      "** Best Parameters **\n",
      "base_estimator__C: 10\n",
      "base_estimator__kernel: rbf\n",
      "base_estimator__tol: 1\n",
      "\n",
      "Validating best estimator...\n",
      "Calculating P-value...\n",
      "Calculated P-value in 882.89 s\n",
      "\n",
      "** Results **\n",
      "Best train log-loss: 0.97196\n",
      "Best validation log-loss: 0.986753\n",
      "P-value: 0.0\n",
      "\n",
      "****** Finish Phase 3 - Engineered - Bagging SVM  *****\n",
      "\n",
      "\n",
      "****** START Phase 3 - Engineered - Random Forest  *****\n",
      "\n",
      "** Search Parameters **\n",
      "criterion: ['gini', 'entropy']\n",
      "max_depth: [10, 20]\n",
      "max_features: ('sqrt', None)\n",
      "min_samples_leaf: [1, 3, 5]\n",
      "min_samples_split: [2, 5, 10]\n",
      "n_estimators: (50, 75)\n",
      "\n",
      "Fitting 3 folds for each of 144 candidates, totalling 432 fits\n"
     ]
    },
    {
     "name": "stderr",
     "output_type": "stream",
     "text": [
      "[Parallel(n_jobs=1)]: Done 432 out of 432 | elapsed:  3.5min finished\n"
     ]
    },
    {
     "name": "stdout",
     "output_type": "stream",
     "text": [
      "** Best Parameters **\n",
      "criterion: gini\n",
      "max_depth: 10\n",
      "max_features: None\n",
      "min_samples_leaf: 5\n",
      "min_samples_split: 2\n",
      "n_estimators: 75\n",
      "\n",
      "Validating best estimator...\n",
      "Calculating P-value...\n",
      "Calculated P-value in 16.71 s\n",
      "\n",
      "** Results **\n",
      "Best train log-loss: 0.7453\n",
      "Best validation log-loss: 0.994655\n",
      "P-value: 0.0\n",
      "\n",
      "****** Finish Phase 3 - Engineered - Random Forest  *****\n",
      "\n",
      "\n",
      "****** START Phase 3 - Engineered - XGBoost  *****\n",
      "\n",
      "** Search Parameters **\n",
      "gamma: [1, 10]\n",
      "learning_rate: [0.3, 0.5]\n",
      "max_depth: [3, 6, 10]\n",
      "reg_alpha: (1, 0.1, 0.01)\n",
      "reg_lambda: (1, 10, 100)\n",
      "subsample: [0.5, 1]\n",
      "\n",
      "Fitting 3 folds for each of 216 candidates, totalling 648 fits\n"
     ]
    },
    {
     "name": "stderr",
     "output_type": "stream",
     "text": [
      "[Parallel(n_jobs=1)]: Done 648 out of 648 | elapsed: 79.7min finished\n"
     ]
    },
    {
     "name": "stdout",
     "output_type": "stream",
     "text": [
      "** Best Parameters **\n",
      "gamma: 1\n",
      "learning_rate: 0.3\n",
      "max_depth: 6\n",
      "reg_alpha: 0.1\n",
      "reg_lambda: 10\n",
      "subsample: 1\n",
      "\n",
      "Validating best estimator...\n",
      "Calculating P-value...\n",
      "Calculated P-value in 187.77 s\n",
      "\n",
      "** Results **\n",
      "Best train log-loss: 0.828185\n",
      "Best validation log-loss: 0.888267\n",
      "P-value: 0.0\n",
      "\n",
      "****** Finish Phase 3 - Engineered - XGBoost  *****\n",
      "\n",
      "\n"
     ]
    }
   ],
   "source": [
    "if __name__ == \"__main__\":\n",
    "    ConductGridSearch(3, \"Engineered\", eng_pipeline, classifiers, params_grid)"
   ]
  },
  {
   "cell_type": "markdown",
   "metadata": {},
   "source": [
    "Do some additional XGBoost searches varying some different parameters. "
   ]
  },
  {
   "cell_type": "code",
   "execution_count": 461,
   "metadata": {},
   "outputs": [
    {
     "name": "stdout",
     "output_type": "stream",
     "text": [
      "Train (full): (21383, 390)\n",
      "Train (slim): (5000, 390)\n",
      "Validation:   (5346, 390)\n",
      "\n",
      "****** START Phase 3 - Engineered - XGBoost Alt  *****\n",
      "\n",
      "** Search Parameters **\n",
      "colsample_bylevel: [0.25, 0.5, 0.75, 1]\n",
      "colsample_bytree: [0.25, 0.5, 0.75, 1]\n",
      "subsample: [0.25, 0.5, 0.75, 1]\n",
      "\n",
      "Fitting 3 folds for each of 64 candidates, totalling 192 fits\n"
     ]
    },
    {
     "name": "stderr",
     "output_type": "stream",
     "text": [
      "[Parallel(n_jobs=1)]: Done 192 out of 192 | elapsed:  5.5min finished\n"
     ]
    },
    {
     "name": "stdout",
     "output_type": "stream",
     "text": [
      "** Best Parameters **\n",
      "colsample_bylevel: 1\n",
      "colsample_bytree: 0.75\n",
      "subsample: 0.75\n",
      "\n",
      "Validating best estimator...\n",
      "Calculating P-value...\n",
      "Calculated P-value in 91.5 s\n",
      "\n",
      "** Results **\n",
      "Best train log-loss: 0.832868\n",
      "Best validation log-loss: 0.891071\n",
      "P-value: 0.0\n",
      "\n",
      "****** Finish Phase 3 - Engineered - XGBoost Alt  *****\n",
      "\n",
      "\n"
     ]
    }
   ],
   "source": [
    "from sklearn.ensemble import BaggingClassifier\n",
    "\n",
    "# Create a list of classifiers for our grid search experiment\n",
    "classifiers = [\n",
    "    ('XGBoost Alt', XGBClassifier(objective=\"multi:softprob\", eval_metric=\"logloss\", random_state=42, n_jobs=-1))\n",
    "]\n",
    "\n",
    "# Arrange grid search parameters for each classifier\n",
    "params_grid = {\n",
    "    'XGBoost Alt': {\n",
    "        'subsample': [0.25, 0.50, 0.75, 1],\n",
    "        'colsample_bytree': [0.25, 0.50, 0.75, 1],\n",
    "        'colsample_bylevel': [0.25, 0.50, 0.75, 1],\n",
    "    }   \n",
    "}\n",
    "\n",
    "# Add XGBoost Alt\n",
    "if __name__ == \"__main__\":\n",
    "    ConductGridSearch(3, \"Engineered\", eng_pipeline, classifiers, params_grid)"
   ]
  },
  {
   "cell_type": "code",
   "execution_count": 462,
   "metadata": {},
   "outputs": [
    {
     "data": {
      "text/html": [
       "<table border=\"1\" class=\"dataframe\">\n",
       "  <thead>\n",
       "    <tr style=\"text-align: right;\">\n",
       "      <th></th>\n",
       "      <th>Phase</th>\n",
       "      <th>Pipeline</th>\n",
       "      <th>Classifier</th>\n",
       "      <th>Train Log Loss</th>\n",
       "      <th>Validation Log Loss</th>\n",
       "      <th>p-value</th>\n",
       "      <th>Train Time (s)</th>\n",
       "      <th>Test Time (s)</th>\n",
       "      <th>Experiment description</th>\n",
       "    </tr>\n",
       "  </thead>\n",
       "  <tbody>\n",
       "    <tr>\n",
       "      <th>0</th>\n",
       "      <td>1</td>\n",
       "      <td>Baseline</td>\n",
       "      <td>LogisticRegression (Ctl)</td>\n",
       "      <td>0.838004</td>\n",
       "      <td>0.907733</td>\n",
       "      <td>0</td>\n",
       "      <td>3.31</td>\n",
       "      <td>0.05</td>\n",
       "      <td>multi_class: ovr<br>solver: liblinear</td>\n",
       "    </tr>\n",
       "    <tr>\n",
       "      <th>1</th>\n",
       "      <td>2</td>\n",
       "      <td>Baseline</td>\n",
       "      <td>LogisticRegression (Ctl)</td>\n",
       "      <td>0.838004</td>\n",
       "      <td>0.907733</td>\n",
       "      <td>NaN</td>\n",
       "      <td>2.95</td>\n",
       "      <td>0.03</td>\n",
       "      <td></td>\n",
       "    </tr>\n",
       "    <tr>\n",
       "      <th>2</th>\n",
       "      <td>2</td>\n",
       "      <td>Baseline</td>\n",
       "      <td>LogisticRegression</td>\n",
       "      <td>0.795478</td>\n",
       "      <td>0.913073</td>\n",
       "      <td>0</td>\n",
       "      <td>5.19</td>\n",
       "      <td>0.03</td>\n",
       "      <td>multi_class: ovr<br>solver: sag<br>tol: 0.01<br></td>\n",
       "    </tr>\n",
       "    <tr>\n",
       "      <th>3</th>\n",
       "      <td>2</td>\n",
       "      <td>Baseline</td>\n",
       "      <td>Stochastic GD</td>\n",
       "      <td>0.879670</td>\n",
       "      <td>0.911208</td>\n",
       "      <td>0.000199</td>\n",
       "      <td>0.53</td>\n",
       "      <td>0.02</td>\n",
       "      <td>alpha: 0.001<br>loss: log<br>penalty: elasticnet<br>...</td>\n",
       "    </tr>\n",
       "    <tr>\n",
       "      <th>4</th>\n",
       "      <td>2</td>\n",
       "      <td>Engineered</td>\n",
       "      <td>LogisticRegression (Ctl)</td>\n",
       "      <td>0.955817</td>\n",
       "      <td>0.978037</td>\n",
       "      <td>0</td>\n",
       "      <td>2.58</td>\n",
       "      <td>0.01</td>\n",
       "      <td></td>\n",
       "    </tr>\n",
       "    <tr>\n",
       "      <th>5</th>\n",
       "      <td>2</td>\n",
       "      <td>Engineered</td>\n",
       "      <td>LogisticRegression</td>\n",
       "      <td>0.935025</td>\n",
       "      <td>0.987704</td>\n",
       "      <td>0</td>\n",
       "      <td>0.51</td>\n",
       "      <td>0.01</td>\n",
       "      <td>multi_class: ovr<br>solver: sag<br>tol: 0.1<br></td>\n",
       "    </tr>\n",
       "    <tr>\n",
       "      <th>6</th>\n",
       "      <td>2</td>\n",
       "      <td>Engineered</td>\n",
       "      <td>Stochastic GD</td>\n",
       "      <td>0.983428</td>\n",
       "      <td>0.979151</td>\n",
       "      <td>0</td>\n",
       "      <td>0.11</td>\n",
       "      <td>0.01</td>\n",
       "      <td>alpha: 0.001<br>loss: log<br>penalty: l1<br>tol: 0.0...</td>\n",
       "    </tr>\n",
       "    <tr>\n",
       "      <th>7</th>\n",
       "      <td>3</td>\n",
       "      <td>Baseline</td>\n",
       "      <td>Bagging SVM</td>\n",
       "      <td>0.887710</td>\n",
       "      <td>0.934716</td>\n",
       "      <td>0</td>\n",
       "      <td>156.50</td>\n",
       "      <td>47.65</td>\n",
       "      <td>base_estimator__C: 100<br>base_estimator__kernel...</td>\n",
       "    </tr>\n",
       "    <tr>\n",
       "      <th>8</th>\n",
       "      <td>3</td>\n",
       "      <td>Baseline</td>\n",
       "      <td>Random Forest</td>\n",
       "      <td>0.800020</td>\n",
       "      <td>0.940940</td>\n",
       "      <td>0</td>\n",
       "      <td>5.35</td>\n",
       "      <td>0.12</td>\n",
       "      <td>criterion: gini<br>max_depth: 10<br>max_features: ...</td>\n",
       "    </tr>\n",
       "    <tr>\n",
       "      <th>9</th>\n",
       "      <td>3</td>\n",
       "      <td>Baseline</td>\n",
       "      <td>XGBoost</td>\n",
       "      <td>0.832178</td>\n",
       "      <td>0.901448</td>\n",
       "      <td>8e-06</td>\n",
       "      <td>69.77</td>\n",
       "      <td>0.10</td>\n",
       "      <td>gamma: 1<br>learning_rate: 0.5<br>max_depth: 10<br>r...</td>\n",
       "    </tr>\n",
       "    <tr>\n",
       "      <th>10</th>\n",
       "      <td>3</td>\n",
       "      <td>Engineered</td>\n",
       "      <td>Bagging SVM</td>\n",
       "      <td>0.971960</td>\n",
       "      <td>0.986753</td>\n",
       "      <td>0</td>\n",
       "      <td>50.54</td>\n",
       "      <td>12.71</td>\n",
       "      <td>base_estimator__C: 10<br>base_estimator__kernel:...</td>\n",
       "    </tr>\n",
       "    <tr>\n",
       "      <th>11</th>\n",
       "      <td>3</td>\n",
       "      <td>Engineered</td>\n",
       "      <td>Random Forest</td>\n",
       "      <td>0.745300</td>\n",
       "      <td>0.994655</td>\n",
       "      <td>0</td>\n",
       "      <td>0.89</td>\n",
       "      <td>0.15</td>\n",
       "      <td>criterion: gini<br>max_depth: 10<br>max_features: ...</td>\n",
       "    </tr>\n",
       "    <tr>\n",
       "      <th>12</th>\n",
       "      <td>3</td>\n",
       "      <td>Engineered</td>\n",
       "      <td>XGBoost</td>\n",
       "      <td>0.828185</td>\n",
       "      <td>0.888267</td>\n",
       "      <td>0</td>\n",
       "      <td>8.87</td>\n",
       "      <td>0.04</td>\n",
       "      <td>gamma: 1<br>learning_rate: 0.3<br>max_depth: 6<br>re...</td>\n",
       "    </tr>\n",
       "    <tr>\n",
       "      <th>13</th>\n",
       "      <td>3</td>\n",
       "      <td>Engineered</td>\n",
       "      <td>XGBoost Alt</td>\n",
       "      <td>0.832868</td>\n",
       "      <td>0.891071</td>\n",
       "      <td>0</td>\n",
       "      <td>4.23</td>\n",
       "      <td>0.04</td>\n",
       "      <td>colsample_bylevel: 1<br>colsample_bytree: 0.75<br>...</td>\n",
       "    </tr>\n",
       "  </tbody>\n",
       "</table>"
      ],
      "text/plain": [
       "<IPython.core.display.HTML object>"
      ]
     },
     "metadata": {},
     "output_type": "display_data"
    }
   ],
   "source": [
    "prettyPrintDf(results)"
   ]
  },
  {
   "cell_type": "markdown",
   "metadata": {},
   "source": [
    "## Feature Importance\n",
    "\n",
    "Our best classifier was the XGBoost with the engineered feature set. Let's re-train that classifier with the best parameters and observe its feature importance."
   ]
  },
  {
   "cell_type": "code",
   "execution_count": null,
   "metadata": {},
   "outputs": [],
   "source": [
    "X_train_tx = eng_pipeline.fit_transform(X_train)\n",
    "X_val_tx = eng_pipeline.transform(X_val)\n",
    "\n",
    "clf = XGBClassifier(\n",
    "    objective=\"multi:softprob\", \n",
    "    eval_metric=\"logloss\",\n",
    "    gamma=1,\n",
    "    learning_rate=0.3,\n",
    "    maxdepth=6,\n",
    "    reg_alpha=0.1, \n",
    "    reg_lambda=10, \n",
    "    subsample=1,\n",
    "    random_state=42, \n",
    "    n_jobs=-1)\n",
    "\n",
    "clf.fit(X_train_tx, y_train)"
   ]
  },
  {
   "cell_type": "code",
   "execution_count": 459,
   "metadata": {},
   "outputs": [
    {
     "name": "stdout",
     "output_type": "stream",
     "text": [
      "AgeInDays                 0.3665427565574646\n",
      "Cat                       0.06319702416658401\n",
      "fixed                     0.04609665274620056\n",
      "bre_pit_bull              0.04312267526984215\n",
      "intact                    0.038661710917949677\n",
      "female                    0.021561337634921074\n",
      "bre_chihuahua_shorthair   0.01784386672079563\n",
      "bre_none                  0.014869888313114643\n",
      "bre_domestic_shorthair    0.014869888313114643\n",
      "col_gray                  0.013382899574935436\n",
      "bre_rottweiler            0.012639405205845833\n",
      "bre_dachshund             0.012639405205845833\n",
      "mix                       0.01189591083675623\n",
      "bre_shih_tzu              0.01189591083675623\n",
      "col_white                 0.010408922098577023\n",
      "bre_mastiff               0.010408922098577023\n",
      "bre_lhasa_apso            0.010408922098577023\n",
      "pat_none                  0.009665427729487419\n",
      "col_none                  0.008921933360397816\n",
      "bre_domestic_medium_hair  0.008921933360397816\n"
     ]
    }
   ],
   "source": [
    "cat_encoder = cat_pipeline.named_steps[\"cat_encoder\"]\n",
    "cat_one_hot_attribs = list(np.hstack(cat_encoder.categories_))\n",
    "attributes = num_attribs + cat_one_hot_attribs\n",
    "sortedFeatures = sorted(zip(clf.feature_importances_, attributes), reverse=True)\n",
    "for (imp, name) in sortedFeatures[:20]:\n",
    "    print(f\"{name:25} {imp}\")"
   ]
  },
  {
   "cell_type": "markdown",
   "metadata": {},
   "source": [
    "By far the feature with the heaviest importance is AgeInDays. This is in strong agreement with our EDA: younger animals were far more likely to be transferred or adopted, and older animals were far more likely to be returned to owner or euthanized.\n",
    "\n",
    "Reproductive status -- fixed vs intact -- also rates highly, again in accordance with our EDA.\n",
    "\n",
    "The cat/dog dichotomy is not clear-cut. Being a cat is important (my cats would agree), whereas simply being a dog doesn't rate. This could be because dogs typically come with richer breed information, whereas cats are more commonly reffered to as simply short/medium/long hair. \n",
    "\n",
    "Some specific dog breeds emerge as important: pit bulls, rottweilers, and some mastiffs are stereotypically considered mean/aggressive, whereas chihuahuas, dachshunds, and lhasa apsos are stereotypically considered yappy. These stereotypes could make those breeds polarizing."
   ]
  },
  {
   "cell_type": "markdown",
   "metadata": {},
   "source": [
    "## Report"
   ]
  },
  {
   "cell_type": "markdown",
   "metadata": {},
   "source": [
    "### Kaggle Submission"
   ]
  },
  {
   "cell_type": "code",
   "execution_count": 457,
   "metadata": {},
   "outputs": [
    {
     "name": "stdout",
     "output_type": "stream",
     "text": [
      "Saved file to /users/jhoerr/Documents/baseline_submission_1524068306.117419.csv\n"
     ]
    }
   ],
   "source": [
    "kaggleSubmission(eng_pipeline, clf)"
   ]
  },
  {
   "attachments": {
    "image.png": {
     "image/png": "[encoded data removed]"
    }
   },
   "cell_type": "markdown",
   "metadata": {},
   "source": [
    "![image.png](attachment:image.png)"
   ]
  },
  {
   "cell_type": "markdown",
   "metadata": {},
   "source": [
    "### Success/Failure Analysis\n",
    "\n",
    "This week is notable in that my debugged engineered features + XGBoost yielded, with stastial significance, a stronger model than the baseline features + Logistic Regression (Softmax). The improvement was slight, however: I was only able to improve my Kaggle log loss by a mere ~0.01. This improved my Kaggle ranking by from ~930 to ~890, which is still pretty mediocre. \n",
    "\n",
    "At this point I think I can say with some confidence that my efforts will fail the stated objective of  providing meaningful predictions of shelter animal outcomes. It's worth noting that the best competition scores have a log loss of ~0.7. In light of this, and after working with this data, it's clear to me that a (the?) key piece of information missing from the inputs is what brought the animal to the shelter in the first place. This information is often included in the outcomes (\"Euthanized: sick\") but without having it as an input it's difficult to make any meaningful inferences about the animal's outcome.\n",
    "\n",
    "If time permits in the next week I might try to do more feature engineering and my experiment with combining classifiers ala the 'kitchen sink' approach.' However, I do not anticipate that these efforts will meaningfully improve my accuracy."
   ]
  },
  {
   "cell_type": "code",
   "execution_count": null,
   "metadata": {
    "collapsed": true
   },
   "outputs": [],
   "source": []
  }
 ],
 "metadata": {
  "kernelspec": {
   "display_name": "Python 3",
   "language": "python",
   "name": "python3"
  },
  "language_info": {
   "codemirror_mode": {
    "name": "ipython",
    "version": 3
   },
   "file_extension": ".py",
   "mimetype": "text/x-python",
   "name": "python",
   "nbconvert_exporter": "python",
   "pygments_lexer": "ipython3",
   "version": "3.6.3"
  },
  "toc": {
   "nav_menu": {},
   "number_sections": true,
   "sideBar": true,
   "skip_h1_title": false,
   "toc_cell": false,
   "toc_position": {
    "height": "1117px",
    "left": "0px",
    "right": "1571px",
    "top": "107px",
    "width": "307px"
   },
   "toc_section_display": "block",
   "toc_window_display": true
  }
 },
 "nbformat": 4,
 "nbformat_minor": 2
}
